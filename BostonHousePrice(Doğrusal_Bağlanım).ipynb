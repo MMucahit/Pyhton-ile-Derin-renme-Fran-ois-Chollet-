{
  "nbformat": 4,
  "nbformat_minor": 0,
  "metadata": {
    "colab": {
      "name": "BostonHousePrice(Doğrusal Bağlanım).ipynb",
      "provenance": [],
      "collapsed_sections": [],
      "authorship_tag": "ABX9TyPQn1tJPJgEbGAzVcM8o2M6",
      "include_colab_link": true
    },
    "kernelspec": {
      "name": "python3",
      "display_name": "Python 3"
    },
    "language_info": {
      "name": "python"
    },
    "accelerator": "GPU"
  },
  "cells": [
    {
      "cell_type": "markdown",
      "metadata": {
        "id": "view-in-github",
        "colab_type": "text"
      },
      "source": [
        "<a href=\"https://colab.research.google.com/github/MMucahit/PyhtonDerinOrenmeFrancoisChollet/blob/main/BostonHousePrice(Do%C4%9Frusal_Ba%C4%9Flan%C4%B1m).ipynb\" target=\"_parent\"><img src=\"https://colab.research.google.com/assets/colab-badge.svg\" alt=\"Open In Colab\"/></a>"
      ]
    },
    {
      "cell_type": "markdown",
      "metadata": {
        "id": "1mWUMZOjhHPP"
      },
      "source": [
        "Şu anda GPU’da mı çalışıyorum?"
      ]
    },
    {
      "cell_type": "code",
      "metadata": {
        "colab": {
          "base_uri": "https://localhost:8080/",
          "height": 35
        },
        "id": "NJ9MJ-OygWOI",
        "outputId": "1e4b790e-92e7-4b3c-8603-011b49fc01b4"
      },
      "source": [
        "import tensorflow as tf\n",
        "tf.test.gpu_device_name()"
      ],
      "execution_count": 1,
      "outputs": [
        {
          "output_type": "execute_result",
          "data": {
            "application/vnd.google.colaboratory.intrinsic+json": {
              "type": "string"
            },
            "text/plain": [
              "'/device:GPU:0'"
            ]
          },
          "metadata": {
            "tags": []
          },
          "execution_count": 1
        }
      ]
    },
    {
      "cell_type": "markdown",
      "metadata": {
        "id": "gXmn8BRphMA0"
      },
      "source": [
        "Hangi GPU’yu Kullanıyorum?"
      ]
    },
    {
      "cell_type": "code",
      "metadata": {
        "colab": {
          "base_uri": "https://localhost:8080/"
        },
        "id": "elOIgVy-g--O",
        "outputId": "793d5147-7ee1-41a0-bfe7-b9def886e54a"
      },
      "source": [
        "from tensorflow.python.client import device_lib\n",
        "device_lib.list_local_devices()"
      ],
      "execution_count": 2,
      "outputs": [
        {
          "output_type": "execute_result",
          "data": {
            "text/plain": [
              "[name: \"/device:CPU:0\"\n",
              " device_type: \"CPU\"\n",
              " memory_limit: 268435456\n",
              " locality {\n",
              " }\n",
              " incarnation: 11539469553135855351, name: \"/device:GPU:0\"\n",
              " device_type: \"GPU\"\n",
              " memory_limit: 14674281152\n",
              " locality {\n",
              "   bus_id: 1\n",
              "   links {\n",
              "   }\n",
              " }\n",
              " incarnation: 665733965471786007\n",
              " physical_device_desc: \"device: 0, name: Tesla T4, pci bus id: 0000:00:04.0, compute capability: 7.5\"]"
            ]
          },
          "metadata": {
            "tags": []
          },
          "execution_count": 2
        }
      ]
    },
    {
      "cell_type": "markdown",
      "metadata": {
        "id": "ziOzCJXPX019"
      },
      "source": [
        "Veri Setini Yükleme"
      ]
    },
    {
      "cell_type": "code",
      "metadata": {
        "id": "IKbWQRCXhWYl"
      },
      "source": [
        "## Veri seti Bölgesel vergi oranı, suç oranı gibi verilerden olşuyor. Bu veriler ile 1970 ortalarında Boston banliyösündeli ev fiyatlarını tahmin etmeye çalışacağız.\n",
        "## Veri seti 404'ü eğitim ve 102'si test örneği olmak üzere toplamda 506 örnek ile görece az veriye sahip bir settdir.\n",
        "## Veri deki her nitelik farklı ölçeklerdedir. Bunun için normalizasyon edilmeli.\n",
        "## Verideki fiyatlar 10 bin dolar cinsindedir.\n",
        "from keras.datasets import boston_housing"
      ],
      "execution_count": 6,
      "outputs": []
    },
    {
      "cell_type": "code",
      "metadata": {
        "colab": {
          "base_uri": "https://localhost:8080/"
        },
        "id": "OKEes21uYg43",
        "outputId": "38bcd403-9acc-4035-a7b5-9afdbf79bac9"
      },
      "source": [
        "(train_data, train_targets),(test_data, test_targets) = boston_housing.load_data()"
      ],
      "execution_count": 7,
      "outputs": [
        {
          "output_type": "stream",
          "text": [
            "Downloading data from https://storage.googleapis.com/tensorflow/tf-keras-datasets/boston_housing.npz\n",
            "57344/57026 [==============================] - 0s 0us/step\n"
          ],
          "name": "stdout"
        }
      ]
    },
    {
      "cell_type": "code",
      "metadata": {
        "colab": {
          "base_uri": "https://localhost:8080/"
        },
        "id": "czaBrDDaY831",
        "outputId": "ac18a024-f7d0-4ed3-eff2-6082e689af9b"
      },
      "source": [
        "print('train_data.shape: ', train_data.shape) ## 404 örnek(satır), 13 özellik(sütun)\n",
        "print('test_data.shape: ', test_data.shape) ## 102 örnek, 13 özellik"
      ],
      "execution_count": 8,
      "outputs": [
        {
          "output_type": "stream",
          "text": [
            "train_data.shape:  (404, 13)\n",
            "test_data.shape:  (102, 13)\n"
          ],
          "name": "stdout"
        }
      ]
    },
    {
      "cell_type": "markdown",
      "metadata": {
        "id": "a9OaMsvDZr-P"
      },
      "source": [
        "Verilerin Hazırlanması"
      ]
    },
    {
      "cell_type": "code",
      "metadata": {
        "id": "ch2rXzXgZGjN"
      },
      "source": [
        "## Hepsi çok farklı aralıkta olan verilerle sinir ağılarını beslemek sorun çıkartabilir. Öğrenme zorlaşabilir.\n",
        "## Bu yüzden her sütündan o sütünun ortalamasını çıkartıp standart sapmasına bölerek nitelikleri 0 civarına ortalar ve birim standart sapmaya sahip olabiliriz."
      ],
      "execution_count": 11,
      "outputs": []
    },
    {
      "cell_type": "code",
      "metadata": {
        "id": "0OOCw_mWZdX1"
      },
      "source": [
        "## Burada, test veri setini normalize etmek için eğitim veri setinde hesaplanan ortalam ve std yi kullandık. Kesinlikle iş akışınızda test veri seti üzerinde hesaplanmış bir değeri kullanmayın!\n",
        "\n",
        "mean = train_data.mean(axis= 0)\n",
        "train_data -= mean\n",
        "std = train_data.std(axis = 0)\n",
        "train_data /= std\n",
        "\n",
        "test_data -= mean\n",
        "test_data /= std"
      ],
      "execution_count": 13,
      "outputs": []
    },
    {
      "cell_type": "markdown",
      "metadata": {
        "id": "KpvTy-J0bFSV"
      },
      "source": [
        "Ağı inşa etme"
      ]
    },
    {
      "cell_type": "code",
      "metadata": {
        "id": "wijktMXFam3E"
      },
      "source": [
        "## Çok az veri olduğundan 64 birimli iki gizli katman kullanacağız. Genelde veri azaldıkça aşırı uyum olma olasılığı artar ve küçük bir ağ kurmak aşırı uydurmayı önlemenin bir yoludur.\n",
        "\n",
        "from keras.models import Sequential\n",
        "from keras.layers import Dense"
      ],
      "execution_count": 14,
      "outputs": []
    },
    {
      "cell_type": "code",
      "metadata": {
        "id": "w8NLUQbriE14"
      },
      "source": [
        "## Loss fonksiyonu olarak mean squared error (ortalama karesel hata) tahminler ile doğru hedeflerin arasındaki farkın karesi\n",
        "## Metrics olarak mean absolute error (ortalama mutlak hata) tahminler ile doğru hedefşer arasındaki farkın mutlak değeridir. Örneğin 0.5 lik bir MAE 500 dolarlık fark eder.\n",
        "def build_model(): ## Aynı modeli birden fazla kez oluşturmak yerine bir fonksiyon ile yapabiliriz.\n",
        "  model = Sequential()\n",
        "  model.add(Dense(64, activation= 'relu', input_shape = (train_data.shape[1],)))\n",
        "  model.add(Dense(64, activation= 'relu'))\n",
        "  model.add(Dense(1, activation= 'linear'))\n",
        "\n",
        "  model.compile(optimizer = 'rmsprop', loss ='mse', metrics = ['mae'])\n",
        "\n",
        "  return model"
      ],
      "execution_count": 38,
      "outputs": []
    },
    {
      "cell_type": "markdown",
      "metadata": {
        "id": "FZQHHUotj6KN"
      },
      "source": [
        "K-FOLD Doğrulama ile Validataion"
      ]
    },
    {
      "cell_type": "code",
      "metadata": {
        "id": "2M4Hjuumi-he"
      },
      "source": [
        "## Veri setimiz çok küçük olduğu için validation için veri ayırmak elimizde daha küçük bir verinin kalmasına neden olucaktır.\n",
        "## Bunun sonucu olarak doğrulama değerleri hangi verinin doğrulama verisi olduğuna bağlı olarak değişiklik gösterecektir.\n",
        "## Bu gibi durumlarda uygulanabilecek en iyi yaklaşım K-FOLD çapraz doğrulama kullanmak olacaktır.\n",
        "## Eldeki veri K parçaya ayrılır. K tane aynı model oluşturulur ve K-1 parça veri ile eğitilip geri kalanı ile test edilir. Doğrulama skoru ise K tane doğrulama skorunun ortalamasıdır."
      ],
      "execution_count": 18,
      "outputs": []
    },
    {
      "cell_type": "code",
      "metadata": {
        "colab": {
          "base_uri": "https://localhost:8080/"
        },
        "id": "lVu_NE80qOne",
        "outputId": "09e1d1d0-c7a9-4ffe-a980-527a392c264a"
      },
      "source": [
        "x = np.array([[1,2,3],[4,5,6]])\n",
        "y = np.array([[4,5,6],[1,2,3]])\n",
        "\n",
        "z = np.concatenate([x,y],axis = 0)\n",
        "\n",
        "z"
      ],
      "execution_count": 32,
      "outputs": [
        {
          "output_type": "execute_result",
          "data": {
            "text/plain": [
              "array([[1, 2, 3],\n",
              "       [4, 5, 6],\n",
              "       [4, 5, 6],\n",
              "       [1, 2, 3]])"
            ]
          },
          "metadata": {
            "tags": []
          },
          "execution_count": 32
        }
      ]
    },
    {
      "cell_type": "code",
      "metadata": {
        "colab": {
          "base_uri": "https://localhost:8080/"
        },
        "id": "Xy1iBIY8qP_D",
        "outputId": "661ba3f4-fcbe-458c-d2bb-73cc8af0e08e"
      },
      "source": [
        "x = np.concatenate([train_data[:0],train_data[101:]],axis = 0)\n",
        "print(x.shape)\n",
        "\n",
        "y = np.concatenate([train_targets[:0],train_targets[101:]],axis = 0)\n",
        "print(y.shape)"
      ],
      "execution_count": 33,
      "outputs": [
        {
          "output_type": "stream",
          "text": [
            "(303, 13)\n",
            "(303,)\n"
          ],
          "name": "stdout"
        }
      ]
    },
    {
      "cell_type": "code",
      "metadata": {
        "colab": {
          "base_uri": "https://localhost:8080/"
        },
        "id": "K0aToq_ek665",
        "outputId": "4c3e5dc4-146d-4fbf-aa50-e9d8ae210fb1"
      },
      "source": [
        "import numpy as np\n",
        "\n",
        "K = 4\n",
        "num_val_samples = len(train_data) // K\n",
        "num_epochs = 100\n",
        "all_scores = []\n",
        "\n",
        "for i in range(K):\n",
        "  print('Processing fold: ', i)\n",
        "\n",
        "  # K.ıncı parçadaki doğrulama verisini hazırlama ## train_data = (404, 13)\n",
        "  val_data = train_data[i * num_val_samples: (i + 1) * num_val_samples] ## i = 0 ==> train_data[0 : 101] , i = 1 ==> train_data[101: 202], i = 2 ==> train_data[202: 303], i = 3 ==> train_data[303: 404]  \n",
        "  val_targets = train_targets[i * num_val_samples: (i + 1) * num_val_samples] ## i = 0 ==> train_targets[0 : 101], i = 1 ==> train_targets[101: 202], i = 2 ==> train_targets[202: 303], i = 3 ==> train_data[303: 404]\n",
        "\n",
        "  # Eğitim veri setini hazırlar: Veriler diğer parçalardan gelir.\n",
        "  partial_train_data = np.concatenate([train_data[: i * num_val_samples], train_data[(i + 1) * num_val_samples:]],axis = 0) ## i = 0 ==> partial_train_data[train_data[:0],train_data[:101]] \n",
        "  partial_train_targets = np.concatenate([train_targets[: i * num_val_samples], train_targets[(i + 1) * num_val_samples:]],axis = 0) ## i = 0 ==> partial_train_targets[train_data[:0],train_data[:101]]\n",
        "\n",
        "  model = build_model()\n",
        "\n",
        "  model.fit(partial_train_data, partial_train_targets, epochs = num_epochs, batch_size = 1, verbose = 0) ## verbose = 0 olduğu için eğitim sonuçları her epochda gösterilmez.\n",
        "\n",
        "  ## Doğrulama veri setinde değerlendirir.\n",
        "  val_mse, val_mae = model.evaluate(val_data, val_targets, verbose = 0)\n",
        "\n",
        "  all_scores.append(val_mae)"
      ],
      "execution_count": 41,
      "outputs": [
        {
          "output_type": "stream",
          "text": [
            "Processing fold:  0\n",
            "Processing fold:  1\n",
            "Processing fold:  2\n",
            "Processing fold:  3\n"
          ],
          "name": "stdout"
        }
      ]
    },
    {
      "cell_type": "code",
      "metadata": {
        "colab": {
          "base_uri": "https://localhost:8080/"
        },
        "id": "aOa1cg9Epx_X",
        "outputId": "119c6c60-57d6-4240-abb6-962e3db85247"
      },
      "source": [
        "## Bu durumda ortalama olarak hedeften 2500 dolar kadar uzakdayız.\n",
        "print('all_scores: ', all_scores)\n",
        "print('mean of all_scores: ', np.mean(all_scores))"
      ],
      "execution_count": 45,
      "outputs": [
        {
          "output_type": "stream",
          "text": [
            "all_scores:  [2.1650078296661377, 2.7146525382995605, 2.7321841716766357, 2.437485456466675]\n",
            "mean of all_scores:  2.512332499027252\n"
          ],
          "name": "stdout"
        }
      ]
    },
    {
      "cell_type": "markdown",
      "metadata": {
        "id": "FPUeYn3MtVnl"
      },
      "source": [
        "Her parçada doğrulama günlüğü kaydetmek. Epoch = 500 iken"
      ]
    },
    {
      "cell_type": "code",
      "metadata": {
        "colab": {
          "base_uri": "https://localhost:8080/"
        },
        "id": "zIrBae1ps7MP",
        "outputId": "fdb6365e-51a5-4d8a-d4c5-43618caca329"
      },
      "source": [
        "K = 4\n",
        "num_val_samples = len(train_data) // K\n",
        "num_epochs = 500\n",
        "all_mae_histories = []\n",
        "\n",
        "for i in range(K):\n",
        "  print('Processing fold: ', i)\n",
        "\n",
        "  # K.ıncı parçadaki doğrulama verisini hazırlama ## train_data = (404, 13)\n",
        "  val_data = train_data[i * num_val_samples: (i + 1) * num_val_samples] ## i = 0 ==> train_data[0 : 101] , i = 1 ==> train_data[101: 202], i = 2 ==> train_data[202: 303], i = 3 ==> train_data[303: 404]  \n",
        "  val_targets = train_targets[i * num_val_samples: (i + 1) * num_val_samples] ## i = 0 ==> train_targets[0 : 101], i = 1 ==> train_targets[101: 202], i = 2 ==> train_targets[202: 303], i = 3 ==> train_data[303: 404]\n",
        "\n",
        "  # Eğitim veri setini hazırlar: Veriler diğer parçalardan gelir.\n",
        "  partial_train_data = np.concatenate([train_data[: i * num_val_samples], train_data[(i + 1) * num_val_samples:]],axis = 0) ## i = 0 ==> partial_train_data[train_data[:0],train_data[:101]] \n",
        "  partial_train_targets = np.concatenate([train_targets[: i * num_val_samples], train_targets[(i + 1) * num_val_samples:]],axis = 0) ## i = 0 ==> partial_train_targets[train_data[:0],train_data[:101]]\n",
        "\n",
        "  model = build_model()\n",
        "\n",
        "  history = model.fit(partial_train_data, partial_train_targets, epochs = num_epochs, batch_size = 1,validation_data=(val_data, val_targets), verbose = 0) ## verbose = 0 olduğu için eğitim sonuçları her epochda gösterilmez.\n",
        "\n",
        "  mae_history = history.history['val_mae']\n",
        "\n",
        "  all_mae_histories.append(mae_history)"
      ],
      "execution_count": 64,
      "outputs": [
        {
          "output_type": "stream",
          "text": [
            "Processing fold:  0\n",
            "Processing fold:  1\n",
            "Processing fold:  2\n",
            "Processing fold:  3\n"
          ],
          "name": "stdout"
        }
      ]
    },
    {
      "cell_type": "code",
      "metadata": {
        "colab": {
          "base_uri": "https://localhost:8080/"
        },
        "id": "seA6vtWvwrg3",
        "outputId": "233d14b4-21ad-4a66-c7f4-56bf6f31f371"
      },
      "source": [
        "history.history.keys()"
      ],
      "execution_count": 65,
      "outputs": [
        {
          "output_type": "execute_result",
          "data": {
            "text/plain": [
              "dict_keys(['loss', 'mae', 'val_loss', 'val_mae'])"
            ]
          },
          "metadata": {
            "tags": []
          },
          "execution_count": 65
        }
      ]
    },
    {
      "cell_type": "code",
      "metadata": {
        "id": "8x_hAP9BwSTO"
      },
      "source": [
        "## K-fold doğrulama skorlarının ortalamasını alamak\n",
        "average_mae_history = [np.mean([x[i] for x in all_mae_histories]) for i in range(num_epochs)]\n",
        "# average_mae_history ## 500 tane"
      ],
      "execution_count": 66,
      "outputs": []
    },
    {
      "cell_type": "markdown",
      "metadata": {
        "id": "ks4AvoXJwxpI"
      },
      "source": [
        "Doğrulama skorlarını çizdirme"
      ]
    },
    {
      "cell_type": "code",
      "metadata": {
        "colab": {
          "base_uri": "https://localhost:8080/",
          "height": 265
        },
        "id": "0n3bBHbXt-XP",
        "outputId": "fa72e79e-9016-4c2d-cc71-02ef911aec8c"
      },
      "source": [
        "import matplotlib.pyplot as plt\n",
        "\n",
        "plt.plot(range(1, len(average_mae_history) + 1), average_mae_history)\n",
        "plt.xlabel = 'Epoklar'\n",
        "plt.ylabel = 'MAE-(Doğrulama)'\n",
        "plt.show()"
      ],
      "execution_count": 67,
      "outputs": [
        {
          "output_type": "display_data",
          "data": {
            "image/png": "[encoded data removed]",
            "text/plain": [
              "<Figure size 432x288 with 1 Axes>"
            ]
          },
          "metadata": {
            "tags": [],
            "needs_background": "light"
          }
        }
      ]
    },
    {
      "cell_type": "code",
      "metadata": {
        "id": "PfgZcP-RwJNo"
      },
      "source": [
        "## Ölçekleme ve göreceli yüksek değşirlik olduğundan şekli okumak zor olabilir.\n",
        "## Her noktayı önceki noktaların kayar ortalaması olarak göstererek yumuşak bir eğri çizdirelim."
      ],
      "execution_count": 68,
      "outputs": []
    },
    {
      "cell_type": "code",
      "metadata": {
        "id": "28XPqWSo2VDv"
      },
      "source": [
        "def smooth_curve(points, factor = 0.9):\n",
        "  smoothed_points = []\n",
        "  for point in points:\n",
        "    if smoothed_points:\n",
        "      previous = smoothed_points[-1]\n",
        "      smoothed_points.append(previous * factor + point * (1 - factor))\n",
        "    else:\n",
        "      smoothed_points.append(point)\n",
        "  return smoothed_points    "
      ],
      "execution_count": 78,
      "outputs": []
    },
    {
      "cell_type": "code",
      "metadata": {
        "id": "gtFurSId2zcw"
      },
      "source": [
        "smooth_mae_history = smooth_curve(average_mae_history[10:])"
      ],
      "execution_count": 79,
      "outputs": []
    },
    {
      "cell_type": "code",
      "metadata": {
        "colab": {
          "base_uri": "https://localhost:8080/",
          "height": 265
        },
        "id": "llWstOUU3cqZ",
        "outputId": "25294593-b5db-4f7c-e675-3244b959892f"
      },
      "source": [
        "plt.plot(range(1, len(smooth_mae_history) +1), smooth_mae_history)\n",
        "plt.xlabel = 'Epoklar'\n",
        "plt.y_label = 'MAE-(Doğruluma)'\n",
        "plt.show()"
      ],
      "execution_count": 80,
      "outputs": [
        {
          "output_type": "display_data",
          "data": {
            "image/png": "[encoded data removed]",
            "text/plain": [
              "<Figure size 432x288 with 1 Axes>"
            ]
          },
          "metadata": {
            "tags": [],
            "needs_background": "light"
          }
        }
      ]
    },
    {
      "cell_type": "code",
      "metadata": {
        "id": "BIU5Tr4d30NZ"
      },
      "source": [
        "## 80 epokdan sonra MAE skoru ilerlemesini durduruyor. Bu noktadan sonra aşırı uydurma başlıyor."
      ],
      "execution_count": 81,
      "outputs": []
    },
    {
      "cell_type": "markdown",
      "metadata": {
        "id": "75tS-Zks505u"
      },
      "source": [
        "Modelin Son Hali"
      ]
    },
    {
      "cell_type": "code",
      "metadata": {
        "colab": {
          "base_uri": "https://localhost:8080/"
        },
        "id": "hErWdK7Y_pHK",
        "outputId": "bce59074-ac0e-4432-d296-4cbed40163d0"
      },
      "source": [
        "## Ağın diğer parametrelerini (eopk sayısını gizli katmanların boyutunu nöron sayılarını vb.) yapılandırmayı bitirdikden sonra, son modeli tüm veri üzerinde eğiterek en iyi parametreler ile test edip performansını ölçebilirisiniz.\n",
        "model = build_model()\n",
        "model.fit(train_data, train_targets, epochs= 80, batch_size= 16, verbose= 0)\n",
        "test_mse_score, test_mae_score = model.evaluate(test_data, test_targets)\n",
        "test_mae_score"
      ],
      "execution_count": 101,
      "outputs": [
        {
          "output_type": "stream",
          "text": [
            "4/4 [==============================] - 0s 3ms/step - loss: 17.6165 - mae: 2.7117\n"
          ],
          "name": "stdout"
        },
        {
          "output_type": "execute_result",
          "data": {
            "text/plain": [
              "2.711672067642212"
            ]
          },
          "metadata": {
            "tags": []
          },
          "execution_count": 101
        }
      ]
    },
    {
      "cell_type": "code",
      "metadata": {
        "id": "_batxUhQBODb"
      },
      "source": [
        ""
      ],
      "execution_count": null,
      "outputs": []
    }
  ]
}