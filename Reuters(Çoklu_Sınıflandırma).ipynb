{
  "nbformat": 4,
  "nbformat_minor": 0,
  "metadata": {
    "colab": {
      "name": "Reuters(Çoklu Sınıflandırma).ipynb",
      "provenance": [],
      "collapsed_sections": [],
      "authorship_tag": "ABX9TyNK2rQRSm9lQPRC6gVGRU0C",
      "include_colab_link": true
    },
    "kernelspec": {
      "name": "python3",
      "display_name": "Python 3"
    },
    "language_info": {
      "name": "python"
    },
    "accelerator": "GPU"
  },
  "cells": [
    {
      "cell_type": "markdown",
      "metadata": {
        "id": "view-in-github",
        "colab_type": "text"
      },
      "source": [
        "<a href=\"https://colab.research.google.com/github/MMucahit/PyhtonDerinOrenmeFrancoisChollet/blob/main/Reuters(%C3%87oklu_S%C4%B1n%C4%B1fland%C4%B1rma).ipynb\" target=\"_parent\"><img src=\"https://colab.research.google.com/assets/colab-badge.svg\" alt=\"Open In Colab\"/></a>"
      ]
    },
    {
      "cell_type": "markdown",
      "metadata": {
        "id": "b8C3fWAN56B9"
      },
      "source": [
        "GPU mu kullanıyoruz ?"
      ]
    },
    {
      "cell_type": "code",
      "metadata": {
        "id": "2E94Yo4B8B-D",
        "colab": {
          "base_uri": "https://localhost:8080/",
          "height": 35
        },
        "outputId": "1fbbd841-ae3b-48b3-d5d1-018a2f35cee1"
      },
      "source": [
        "import tensorflow as tf\n",
        "tf.test.gpu_device_name()"
      ],
      "execution_count": 1,
      "outputs": [
        {
          "output_type": "execute_result",
          "data": {
            "application/vnd.google.colaboratory.intrinsic+json": {
              "type": "string"
            },
            "text/plain": [
              "'/device:GPU:0'"
            ]
          },
          "metadata": {
            "tags": []
          },
          "execution_count": 1
        }
      ]
    },
    {
      "cell_type": "markdown",
      "metadata": {
        "id": "MJLzKZNQ58ZB"
      },
      "source": [
        "Hangi GPU kullanıyoruz ?"
      ]
    },
    {
      "cell_type": "code",
      "metadata": {
        "colab": {
          "base_uri": "https://localhost:8080/"
        },
        "id": "L_vxcow552GL",
        "outputId": "58c162bf-8b95-4755-a0e1-4ade40ddd1af"
      },
      "source": [
        "from tensorflow.python.client import device_lib\n",
        "device_lib.list_local_devices()"
      ],
      "execution_count": 2,
      "outputs": [
        {
          "output_type": "execute_result",
          "data": {
            "text/plain": [
              "[name: \"/device:CPU:0\"\n",
              " device_type: \"CPU\"\n",
              " memory_limit: 268435456\n",
              " locality {\n",
              " }\n",
              " incarnation: 4250935849194686813, name: \"/device:GPU:0\"\n",
              " device_type: \"GPU\"\n",
              " memory_limit: 14674281152\n",
              " locality {\n",
              "   bus_id: 1\n",
              "   links {\n",
              "   }\n",
              " }\n",
              " incarnation: 3527979111933076742\n",
              " physical_device_desc: \"device: 0, name: Tesla T4, pci bus id: 0000:00:04.0, compute capability: 7.5\"]"
            ]
          },
          "metadata": {
            "tags": []
          },
          "execution_count": 2
        }
      ]
    },
    {
      "cell_type": "markdown",
      "metadata": {
        "id": "PCzilIIm6TNp"
      },
      "source": [
        "Veri Setini Yükleme"
      ]
    },
    {
      "cell_type": "code",
      "metadata": {
        "id": "1CISX9J159-K"
      },
      "source": [
        "## Metin sınıflandırmada sıkça kullanılan bir veri setidir. 46 farklı konu bulunur. Bazı konularda daha fazla örnek olsada her konudan en az 10 örnek bulunmaktadır.\n",
        "\n",
        "from keras.datasets import reuters"
      ],
      "execution_count": 3,
      "outputs": []
    },
    {
      "cell_type": "code",
      "metadata": {
        "colab": {
          "base_uri": "https://localhost:8080/"
        },
        "id": "casV96Gb7tAp",
        "outputId": "0c2e707d-8a18-482b-8cde-cc5f3a892972"
      },
      "source": [
        "num_words = 10000\n",
        "(train_data, train_labels), (test_data, test_labels) = reuters.load_data(num_words= num_words) ## En sık karşılaşılan 10000 kelime  "
      ],
      "execution_count": 4,
      "outputs": [
        {
          "output_type": "stream",
          "text": [
            "Downloading data from https://storage.googleapis.com/tensorflow/tf-keras-datasets/reuters.npz\n",
            "2113536/2110848 [==============================] - 0s 0us/step\n"
          ],
          "name": "stdout"
        },
        {
          "output_type": "stream",
          "text": [
            "/usr/local/lib/python3.7/dist-packages/tensorflow/python/keras/datasets/reuters.py:148: VisibleDeprecationWarning: Creating an ndarray from ragged nested sequences (which is a list-or-tuple of lists-or-tuples-or ndarrays with different lengths or shapes) is deprecated. If you meant to do this, you must specify 'dtype=object' when creating the ndarray\n",
            "  x_train, y_train = np.array(xs[:idx]), np.array(labels[:idx])\n",
            "/usr/local/lib/python3.7/dist-packages/tensorflow/python/keras/datasets/reuters.py:149: VisibleDeprecationWarning: Creating an ndarray from ragged nested sequences (which is a list-or-tuple of lists-or-tuples-or ndarrays with different lengths or shapes) is deprecated. If you meant to do this, you must specify 'dtype=object' when creating the ndarray\n",
            "  x_test, y_test = np.array(xs[idx:]), np.array(labels[idx:])\n"
          ],
          "name": "stderr"
        }
      ]
    },
    {
      "cell_type": "code",
      "metadata": {
        "colab": {
          "base_uri": "https://localhost:8080/"
        },
        "id": "12KYyjYV8L7Z",
        "outputId": "c89d3221-85e7-436a-8677-490517c1590f"
      },
      "source": [
        "print('num of train_data: ',len(train_data))\n",
        "print('num of test_data: ',len(test_data))"
      ],
      "execution_count": 6,
      "outputs": [
        {
          "output_type": "stream",
          "text": [
            "num of train_data:  8982\n",
            "num of test_data:  2246\n"
          ],
          "name": "stdout"
        }
      ]
    },
    {
      "cell_type": "code",
      "metadata": {
        "colab": {
          "base_uri": "https://localhost:8080/"
        },
        "id": "EKKf2u8F8Q8a",
        "outputId": "1d36cc1c-0f60-46ec-e190-cb44f5ec63f2"
      },
      "source": [
        "print(train_data[10]) ## IMDB veri setinde olduğu gibi her örnek tam sayılardan oluşan bir listedir."
      ],
      "execution_count": 8,
      "outputs": [
        {
          "output_type": "stream",
          "text": [
            "[1, 245, 273, 207, 156, 53, 74, 160, 26, 14, 46, 296, 26, 39, 74, 2979, 3554, 14, 46, 4689, 4329, 86, 61, 3499, 4795, 14, 61, 451, 4329, 17, 12]\n"
          ],
          "name": "stdout"
        }
      ]
    },
    {
      "cell_type": "code",
      "metadata": {
        "colab": {
          "base_uri": "https://localhost:8080/"
        },
        "id": "ocoirPBX8bzi",
        "outputId": "63f31d69-7c8f-4289-c41a-9ddff151e95a"
      },
      "source": [
        "word_index = reuters.get_word_index() ## kelime ve indexleri sözlük içerisinde verilmiş.\n",
        "reverse_word_index = dict([(value, key) for (key, value) in word_index.items()]) ## sözlükdeki kelime ve indexleri ters çevirme işlemi\n",
        "decode_newswire = ' '.join([reverse_word_index.get(i - 3, '?') for i in train_data[0]]) ## train_data daki haberleri text e çevirmek için yazılmış bir kod parçası.\n",
        "print('train_data[0]: ', decode_newswire)\n",
        "print('train_data[0] ın kategorisi: ', train_labels[0])"
      ],
      "execution_count": 121,
      "outputs": [
        {
          "output_type": "stream",
          "text": [
            "train_data[0]:  ? ? ? said as a result of its december acquisition of space co it expects earnings per share in 1987 of 1 15 to 1 30 dlrs per share up from 70 cts in 1986 the company said pretax net should rise to nine to 10 mln dlrs from six mln dlrs in 1986 and rental operation revenues to 19 to 22 mln dlrs from 12 5 mln dlrs it said cash flow per share this year should be 2 50 to three dlrs reuter 3\n",
            "train_data[0] ın kategorisi:  3\n"
          ],
          "name": "stdout"
        }
      ]
    },
    {
      "cell_type": "markdown",
      "metadata": {
        "id": "dPsMhMif_Cp-"
      },
      "source": [
        "Verileri Hazırlama"
      ]
    },
    {
      "cell_type": "code",
      "metadata": {
        "id": "UdshcaTM88Vq"
      },
      "source": [
        "import numpy as np"
      ],
      "execution_count": 21,
      "outputs": []
    },
    {
      "cell_type": "code",
      "metadata": {
        "id": "QFuvrMcT-tsi"
      },
      "source": [
        "def vectorize_sequence(sequences, dimension = num_words):\n",
        "  results = np.zeros((len(sequences), dimension))\n",
        "  for i, sequence in enumerate(sequences):\n",
        "    results[i, sequence] = 1\n",
        "  return results  "
      ],
      "execution_count": 24,
      "outputs": []
    },
    {
      "cell_type": "code",
      "metadata": {
        "id": "5l1g0YV8_biZ"
      },
      "source": [
        "x_train = vectorize_sequence(train_data) ## Eğitim verisinin vektöre dönüştürülmesi\n",
        "x_test = vectorize_sequence(test_data) ## Test verisinin vektöre dönüştürülmes"
      ],
      "execution_count": 25,
      "outputs": []
    },
    {
      "cell_type": "code",
      "metadata": {
        "colab": {
          "base_uri": "https://localhost:8080/"
        },
        "id": "tvNy0B_YC8m2",
        "outputId": "9c4c1d59-0228-4133-edb2-d25140b13073"
      },
      "source": [
        "num_of_labels = max([max(sequence) for sequence in [train_labels]])\n",
        "num_of_labels"
      ],
      "execution_count": 42,
      "outputs": [
        {
          "output_type": "execute_result",
          "data": {
            "text/plain": [
              "45"
            ]
          },
          "metadata": {
            "tags": []
          },
          "execution_count": 42
        }
      ]
    },
    {
      "cell_type": "code",
      "metadata": {
        "id": "AEhqtASj_tvC"
      },
      "source": [
        "## Etiketleri One hot encode edilmesi ilk yöntem\n",
        "def to_one_hot(labels, dimension = num_of_labels + 1):  ## +1 indisin 0 dan başlamasından dolayı\n",
        "  results = np.zeros((len(labels), dimension))\n",
        "  for i, label in enumerate(labels):\n",
        "    results[i, label] = 1\n",
        "  return results  "
      ],
      "execution_count": 28,
      "outputs": []
    },
    {
      "cell_type": "code",
      "metadata": {
        "colab": {
          "base_uri": "https://localhost:8080/"
        },
        "id": "wMMr9OZCAceR",
        "outputId": "6519b0f2-1206-49eb-8369-e4001bd3ef9a"
      },
      "source": [
        "## Eğitim etiketlerinin vektöre dönüştürülmesi\n",
        "one_hot_train_labels = to_one_hot(train_labels)\n",
        "one_hot_test_labels = to_one_hot(test_labels)"
      ],
      "execution_count": 29,
      "outputs": [
        {
          "output_type": "execute_result",
          "data": {
            "text/plain": [
              "array([[0., 0., 0., ..., 0., 0., 0.],\n",
              "       [0., 0., 0., ..., 0., 0., 0.],\n",
              "       [0., 1., 0., ..., 0., 0., 0.],\n",
              "       ...,\n",
              "       [0., 0., 0., ..., 0., 0., 0.],\n",
              "       [0., 0., 0., ..., 0., 0., 0.],\n",
              "       [0., 0., 0., ..., 0., 0., 0.]])"
            ]
          },
          "metadata": {
            "tags": []
          },
          "execution_count": 29
        }
      ]
    },
    {
      "cell_type": "code",
      "metadata": {
        "id": "YN862SlRA2yS"
      },
      "source": [
        "## Kerasta one_hot yapmanın başka bir yolu ise:\n",
        "from keras.utils.np_utils import to_categorical"
      ],
      "execution_count": 30,
      "outputs": []
    },
    {
      "cell_type": "code",
      "metadata": {
        "id": "YrvgO3P6BLr6"
      },
      "source": [
        "one_hot_train_labels = to_categorical(train_labels)\n",
        "one_hot_test_labels = to_categorical(test_labels)"
      ],
      "execution_count": 32,
      "outputs": []
    },
    {
      "cell_type": "markdown",
      "metadata": {
        "id": "81Scq6a0BpYR"
      },
      "source": [
        "Ağı İnşa Etme"
      ]
    },
    {
      "cell_type": "code",
      "metadata": {
        "id": "7GNN5fz3BhLy"
      },
      "source": [
        "## IMBD(ikili sınıflandırmadan) farkı etiket sayısı 2 den 46 ya çıkmasıdır. IMDB de kullandığımız Dense katmanlarında her katman kendisinden önceki katmanın çıktı bilgisine ulaşabiliyor.\n",
        "## Eğer bir katman bu bilgiyi öğrenemezse sonraki katmanın bunu telafi etmen şansı yok ve katmanların bir darboğaz haline gelme ihtimali bulunmaktadır.\n",
        "## IMDB de 16 nöron ile ağı inşa etmiştirk bu örnekte 16 nöron yetersin kalacaktır. Böyle küçük katmanlar ileriye gerekli bilgiyi taşıyamadıkları için darboğaz oluşturacaklardır.\n",
        "## Bu sebeble 64 nöron kullanacağız.\n",
        "\n",
        "from keras import models\n",
        "from keras import layers"
      ],
      "execution_count": 33,
      "outputs": []
    },
    {
      "cell_type": "code",
      "metadata": {
        "id": "jq2TI4yaCvc0"
      },
      "source": [
        "model = models.Sequential()\n",
        "model.add(layers.Dense(64, activation= 'relu', input_shape = (num_words,)))\n",
        "model.add(layers.Dense(64, activation= 'relu',))\n",
        "model.add(layers.Dense(num_of_labels + 1, activation = 'softmax')) \n",
        "## Bu ağın çıktısının 46 farklı sınıfa ait olasılık dağılımı olaçağı anlamına gelmektedir. \n",
        "## Her girdi için 46 boyutlu bir vektör çıkacak ve output[i] i'inci sınıfa ait ait olma olasılığını gösterecektir. Bu 46 değerinin toplamı 1 olacaktır.\n",
        "\n",
        "model.compile(optimizer = 'rmsprop', loss = 'categorical_crossentropy', metrics = ['accuracy']) ## Categorical_crossentropy iki olasılık arasındaki mesafeyi ölçer."
      ],
      "execution_count": 48,
      "outputs": []
    },
    {
      "cell_type": "markdown",
      "metadata": {
        "id": "fa5gSR1XGX7a"
      },
      "source": [
        "Validation Verisi Oluşturma"
      ]
    },
    {
      "cell_type": "code",
      "metadata": {
        "id": "-d8I0ptcEmNC"
      },
      "source": [
        "x_val = x_train[:1000]\n",
        "partial_x_train = x_train[1000:]\n",
        "\n",
        "y_val = one_hot_train_labels[:1000]\n",
        "partial_y_train = one_hot_train_labels[1000:]"
      ],
      "execution_count": 50,
      "outputs": []
    },
    {
      "cell_type": "markdown",
      "metadata": {
        "id": "rjrcOCLxG1oX"
      },
      "source": [
        "Modelin Eğitilmesi"
      ]
    },
    {
      "cell_type": "code",
      "metadata": {
        "colab": {
          "base_uri": "https://localhost:8080/"
        },
        "id": "n3RAJDnWGOxB",
        "outputId": "028a6d0d-5347-474e-893d-c0504759dfe4"
      },
      "source": [
        "epoch = 20\n",
        "batch = 512\n",
        "history = model.fit(partial_x_train, partial_y_train, epochs = epoch, batch_size= batch, validation_data = (x_val, y_val))"
      ],
      "execution_count": 51,
      "outputs": [
        {
          "output_type": "stream",
          "text": [
            "Epoch 1/20\n",
            "16/16 [==============================] - 3s 25ms/step - loss: 3.1481 - accuracy: 0.4264 - val_loss: 1.6574 - val_accuracy: 0.6400\n",
            "Epoch 2/20\n",
            "16/16 [==============================] - 0s 15ms/step - loss: 1.4180 - accuracy: 0.7040 - val_loss: 1.2897 - val_accuracy: 0.7380\n",
            "Epoch 3/20\n",
            "16/16 [==============================] - 0s 15ms/step - loss: 1.0613 - accuracy: 0.7767 - val_loss: 1.1219 - val_accuracy: 0.7600\n",
            "Epoch 4/20\n",
            "16/16 [==============================] - 0s 16ms/step - loss: 0.8241 - accuracy: 0.8236 - val_loss: 1.0454 - val_accuracy: 0.7780\n",
            "Epoch 5/20\n",
            "16/16 [==============================] - 0s 15ms/step - loss: 0.6571 - accuracy: 0.8608 - val_loss: 0.9640 - val_accuracy: 0.8000\n",
            "Epoch 6/20\n",
            "16/16 [==============================] - 0s 15ms/step - loss: 0.5100 - accuracy: 0.8925 - val_loss: 0.9475 - val_accuracy: 0.8020\n",
            "Epoch 7/20\n",
            "16/16 [==============================] - 0s 15ms/step - loss: 0.4134 - accuracy: 0.9141 - val_loss: 0.9543 - val_accuracy: 0.7960\n",
            "Epoch 8/20\n",
            "16/16 [==============================] - 0s 16ms/step - loss: 0.3358 - accuracy: 0.9316 - val_loss: 0.8994 - val_accuracy: 0.8080\n",
            "Epoch 9/20\n",
            "16/16 [==============================] - 0s 16ms/step - loss: 0.2645 - accuracy: 0.9429 - val_loss: 0.9025 - val_accuracy: 0.8150\n",
            "Epoch 10/20\n",
            "16/16 [==============================] - 0s 15ms/step - loss: 0.2289 - accuracy: 0.9491 - val_loss: 0.9154 - val_accuracy: 0.8160\n",
            "Epoch 11/20\n",
            "16/16 [==============================] - 0s 15ms/step - loss: 0.2010 - accuracy: 0.9513 - val_loss: 0.9074 - val_accuracy: 0.8190\n",
            "Epoch 12/20\n",
            "16/16 [==============================] - 0s 16ms/step - loss: 0.1775 - accuracy: 0.9543 - val_loss: 0.9164 - val_accuracy: 0.8150\n",
            "Epoch 13/20\n",
            "16/16 [==============================] - 0s 15ms/step - loss: 0.1518 - accuracy: 0.9589 - val_loss: 0.9804 - val_accuracy: 0.8100\n",
            "Epoch 14/20\n",
            "16/16 [==============================] - 0s 15ms/step - loss: 0.1315 - accuracy: 0.9613 - val_loss: 1.0105 - val_accuracy: 0.7990\n",
            "Epoch 15/20\n",
            "16/16 [==============================] - 0s 16ms/step - loss: 0.1316 - accuracy: 0.9577 - val_loss: 0.9730 - val_accuracy: 0.8120\n",
            "Epoch 16/20\n",
            "16/16 [==============================] - 0s 16ms/step - loss: 0.1225 - accuracy: 0.9584 - val_loss: 0.9934 - val_accuracy: 0.8120\n",
            "Epoch 17/20\n",
            "16/16 [==============================] - 0s 15ms/step - loss: 0.1110 - accuracy: 0.9624 - val_loss: 1.0807 - val_accuracy: 0.8010\n",
            "Epoch 18/20\n",
            "16/16 [==============================] - 0s 16ms/step - loss: 0.1071 - accuracy: 0.9621 - val_loss: 1.0380 - val_accuracy: 0.8050\n",
            "Epoch 19/20\n",
            "16/16 [==============================] - 0s 15ms/step - loss: 0.1010 - accuracy: 0.9617 - val_loss: 1.0604 - val_accuracy: 0.8070\n",
            "Epoch 20/20\n",
            "16/16 [==============================] - 0s 15ms/step - loss: 0.1039 - accuracy: 0.9596 - val_loss: 1.0805 - val_accuracy: 0.8030\n"
          ],
          "name": "stdout"
        }
      ]
    },
    {
      "cell_type": "markdown",
      "metadata": {
        "id": "4CSJUHEwHY65"
      },
      "source": [
        "Eğitim ve Doğrulama Kayıplarını Çizdirme"
      ]
    },
    {
      "cell_type": "code",
      "metadata": {
        "colab": {
          "base_uri": "https://localhost:8080/",
          "height": 281
        },
        "id": "CvMCJXwxHKjq",
        "outputId": "f748ad20-326f-485c-a307-13acc9580b93"
      },
      "source": [
        "import matplotlib.pyplot as plt\n",
        "\n",
        "loss = history.history['loss']\n",
        "val_loss = history.history['val_loss']\n",
        "\n",
        "epochs = range(1, len(loss) + 1)\n",
        "\n",
        "plt.plot(epochs, loss, 'g', label = 'Eğitim kaybı')\n",
        "plt.plot(epochs, val_loss, 'b', label = 'Doğrulama kaybı')\n",
        "plt.title('Eğitim ve Doğrulama kaybı')\n",
        "plt.xlabel = 'Epoklar'\n",
        "plt.ylabel = 'Kayığ'\n",
        "plt.legend()\n",
        "plt.show()"
      ],
      "execution_count": 52,
      "outputs": [
        {
          "output_type": "display_data",
          "data": {
            "image/png": "[encoded data removed]",
            "text/plain": [
              "<Figure size 432x288 with 1 Axes>"
            ]
          },
          "metadata": {
            "tags": [],
            "needs_background": "light"
          }
        }
      ]
    },
    {
      "cell_type": "markdown",
      "metadata": {
        "id": "sCneeUnfId0R"
      },
      "source": [
        "Eğitim ve Doğrulama Başarımını Çizdirme"
      ]
    },
    {
      "cell_type": "code",
      "metadata": {
        "colab": {
          "base_uri": "https://localhost:8080/",
          "height": 281
        },
        "id": "dh8Pd3zCIAal",
        "outputId": "1836b103-10c6-4c70-a539-665ae227aa95"
      },
      "source": [
        "acc = history.history['accuracy']\n",
        "val_acc = history.history['val_accuracy']\n",
        "\n",
        "epochs = range(1, len(acc) + 1)\n",
        "\n",
        "plt.plot(epochs, acc, 'g', label = 'Eğitim başarımı')\n",
        "plt.plot(epochs, val_acc, 'b', label = 'Doğrulama başarımı')\n",
        "plt.title('Eğitim ve Doğrulama başarımı')\n",
        "plt.xlabel = 'Epoklar'\n",
        "plt.ylabel = 'Başarım'\n",
        "plt.legend()\n",
        "plt.show()"
      ],
      "execution_count": 53,
      "outputs": [
        {
          "output_type": "display_data",
          "data": {
            "image/png": "[encoded data removed]",
            "text/plain": [
              "<Figure size 432x288 with 1 Axes>"
            ]
          },
          "metadata": {
            "tags": [],
            "needs_background": "light"
          }
        }
      ]
    },
    {
      "cell_type": "code",
      "metadata": {
        "colab": {
          "base_uri": "https://localhost:8080/"
        },
        "id": "ABx6wTFsIrUS",
        "outputId": "bfde0e09-849d-4e53-d4b6-8350109fbfa3"
      },
      "source": [
        "## Model 9. epokdan sonra overfitt olmaktadır. 9 Epok da durdurulabilir.\n",
        "results = model.evaluate(x_test, one_hot_test_labels)\n",
        "results"
      ],
      "execution_count": 54,
      "outputs": [
        {
          "output_type": "stream",
          "text": [
            "71/71 [==============================] - 0s 3ms/step - loss: 1.2414 - accuracy: 0.7845\n"
          ],
          "name": "stdout"
        },
        {
          "output_type": "execute_result",
          "data": {
            "text/plain": [
              "[1.2414286136627197, 0.7845057845115662]"
            ]
          },
          "metadata": {
            "tags": []
          },
          "execution_count": 54
        }
      ]
    },
    {
      "cell_type": "markdown",
      "metadata": {
        "id": "8FKEVnPhJZw_"
      },
      "source": [
        "Tahmin"
      ]
    },
    {
      "cell_type": "code",
      "metadata": {
        "colab": {
          "base_uri": "https://localhost:8080/"
        },
        "id": "SwNViQQbI4KT",
        "outputId": "15a10383-7da3-4ba9-92dc-ef2410d1f2fd"
      },
      "source": [
        "predictions = model.predict(x_test)\n",
        "print(predictions[0].shape) ## Tahmin çıktısı 46 boyutludur.\n",
        "print(np.sum(predictions[0])) ## Çıktının toplamları 1 dir."
      ],
      "execution_count": 57,
      "outputs": [
        {
          "output_type": "stream",
          "text": [
            "(46,)\n",
            "1.0\n"
          ],
          "name": "stdout"
        }
      ]
    },
    {
      "cell_type": "markdown",
      "metadata": {
        "id": "f-nLkvMHNjXc"
      },
      "source": [
        "Yorumları texte çevirme ve categorylerini görme işlemi"
      ]
    },
    {
      "cell_type": "code",
      "metadata": {
        "id": "GpX5wLI1Jmms"
      },
      "source": [
        "def Text(index):\n",
        "  decode_newswire = ' '.join([reverse_word_index.get(i - 3, '?') for i in test_data[index]])\n",
        "  return str(decode_newswire), test_labels[index]"
      ],
      "execution_count": 78,
      "outputs": []
    },
    {
      "cell_type": "code",
      "metadata": {
        "colab": {
          "base_uri": "https://localhost:8080/"
        },
        "id": "MPXnXLRbKQ9j",
        "outputId": "cf7289c9-80d7-4801-b335-e9a8b0ce994f"
      },
      "source": [
        "text = Text(500)\n",
        "print('text: ', text[0],end='\\n\\n')\n",
        "print('category: ', text[1])"
      ],
      "execution_count": 83,
      "outputs": [
        {
          "output_type": "stream",
          "text": [
            "text:  ? shr profit three cts vs profit one ct net profit 129 082 vs profit 36 099 revs 3 864 187 vs 1 875 919 nine mths shr loss six cts vs profit two cts net loss 303 581 vs profit 110 311 revs 9 517 242 vs 5 248 105 note prior qtr and nine mth figures include ? of 15 000 dlrs and 48 000 dlrs respectively reuter 3\n",
            "\n",
            "category:  3\n"
          ],
          "name": "stdout"
        }
      ]
    },
    {
      "cell_type": "markdown",
      "metadata": {
        "id": "8WopccLQNpvq"
      },
      "source": [
        "Çevirdiğimiz text'i vectöre çevirip tahminde bulunma işlemi"
      ]
    },
    {
      "cell_type": "code",
      "metadata": {
        "colab": {
          "base_uri": "https://localhost:8080/"
        },
        "id": "7dDLtuXOKpwS",
        "outputId": "7f64f2a3-6f83-457a-ab9c-400bd51f7754"
      },
      "source": [
        "text = text[0] \n",
        "\n",
        "import re\n",
        "\n",
        "predict_words = re.sub('[.!,;?]', ' ', text).split()\n",
        "predict_word_index = [word_index[word] + 3 for word in predict_words]\n",
        "predict_data_x = np.zeros(num_words)\n",
        "predict_data_x[predict_word_index] = 1\n",
        "predict_data_x = predict_data_x.reshape(1, num_words)\n",
        "\n",
        "result = model.predict(predict_data_x)\n",
        "category = np.argmax(result)\n",
        "print('category = {}'.format(category))"
      ],
      "execution_count": 81,
      "outputs": [
        {
          "output_type": "stream",
          "text": [
            "category = 3\n"
          ],
          "name": "stdout"
        }
      ]
    },
    {
      "cell_type": "markdown",
      "metadata": {
        "id": "q4MQrlGVOFWa"
      },
      "source": [
        "# İleri Gözlemler"
      ]
    },
    {
      "cell_type": "markdown",
      "metadata": {
        "id": "Qe3Mhe6BOLoZ"
      },
      "source": [
        "- Etiketleri Ve Kaybı işlemenin alternatif yolu"
      ]
    },
    {
      "cell_type": "code",
      "metadata": {
        "id": "pJ6tQYIHOKrZ"
      },
      "source": [
        "## Etiketleri işleminin bir yoluda tam sayı tensörlerine çevirmektir."
      ],
      "execution_count": null,
      "outputs": []
    },
    {
      "cell_type": "code",
      "metadata": {
        "id": "k5QpNzj1L7tN"
      },
      "source": [
        "y_train = np.array(train_labels)\n",
        "y_test = np.array(test_labels)"
      ],
      "execution_count": 84,
      "outputs": []
    },
    {
      "cell_type": "code",
      "metadata": {
        "id": "sx8jtPb5OgEN"
      },
      "source": [
        "## Etiketleri bu şekilde kullanmak için kayıp fonksiyonunu değiştirmek zorunda kalırız. \n",
        "## Bunun için 'categorical_crossentrpy' gibi etiketleri kategorik kodlama biçimde beklemeyen bir fonksiyon yerine 'sparse_categorical_crossentropy' kullanılır.\n",
        "\n",
        "model.compile(optimizer= 'rmsprop', loss = 'sparse_categorical_crossentropy', metrics= ['accuracy']) ## Yine categorical_crossentropy gibi aynı matematik işlemleri yapar sadece farklı bir arayüze sahiptir."
      ],
      "execution_count": null,
      "outputs": []
    },
    {
      "cell_type": "markdown",
      "metadata": {
        "id": "mQs_52WTPNef"
      },
      "source": [
        "- Yeterince Büyük Ara Katmanlara Sahip Olmanın Önemi"
      ]
    },
    {
      "cell_type": "code",
      "metadata": {
        "colab": {
          "base_uri": "https://localhost:8080/"
        },
        "id": "msHk8tGMPgCF",
        "outputId": "737de2cc-64b4-4dd7-d4da-ebb09b98bff8"
      },
      "source": [
        "## Çıktıların 46 boyutlu olduğu için ara katmanların 46 gizli nörondan daha fazla birime sahip olmalıdır. \n",
        "## Şimdi ara katman nöron sayısının 46 dan düşük olması durumundaki darboğazı görelim.\n",
        "\n",
        "model = models.Sequential()\n",
        "model.add(layers.Dense(64, activation= 'relu', input_shape = (num_words,)))\n",
        "model.add(layers.Dense(4, activation = 'relu'))\n",
        "model.add(layers.Dense(num_of_labels + 1, activation = 'softmax'))\n",
        "\n",
        "model.compile(optimizer= 'rmsprop', loss = 'categorical_crossentropy', metrics = ['accuracy'])\n",
        "model.fit(partial_x_train,partial_y_train, epochs= epoch, batch_size= 128, validation_data= (x_val, y_val))"
      ],
      "execution_count": 91,
      "outputs": [
        {
          "output_type": "stream",
          "text": [
            "Epoch 1/20\n",
            "63/63 [==============================] - 1s 8ms/step - loss: 3.4102 - accuracy: 0.0792 - val_loss: 2.3207 - val_accuracy: 0.3840\n",
            "Epoch 2/20\n",
            "63/63 [==============================] - 0s 6ms/step - loss: 2.0559 - accuracy: 0.4531 - val_loss: 1.6503 - val_accuracy: 0.5770\n",
            "Epoch 3/20\n",
            "63/63 [==============================] - 0s 6ms/step - loss: 1.4942 - accuracy: 0.5946 - val_loss: 1.4782 - val_accuracy: 0.6040\n",
            "Epoch 4/20\n",
            "63/63 [==============================] - 0s 6ms/step - loss: 1.2678 - accuracy: 0.6384 - val_loss: 1.3640 - val_accuracy: 0.6640\n",
            "Epoch 5/20\n",
            "63/63 [==============================] - 0s 6ms/step - loss: 1.0904 - accuracy: 0.7263 - val_loss: 1.2925 - val_accuracy: 0.6980\n",
            "Epoch 6/20\n",
            "63/63 [==============================] - 0s 6ms/step - loss: 0.9468 - accuracy: 0.7625 - val_loss: 1.2815 - val_accuracy: 0.7070\n",
            "Epoch 7/20\n",
            "63/63 [==============================] - 0s 6ms/step - loss: 0.8484 - accuracy: 0.7861 - val_loss: 1.2668 - val_accuracy: 0.7140\n",
            "Epoch 8/20\n",
            "63/63 [==============================] - 0s 6ms/step - loss: 0.7758 - accuracy: 0.8016 - val_loss: 1.2855 - val_accuracy: 0.7250\n",
            "Epoch 9/20\n",
            "63/63 [==============================] - 0s 6ms/step - loss: 0.6998 - accuracy: 0.8165 - val_loss: 1.3179 - val_accuracy: 0.7210\n",
            "Epoch 10/20\n",
            "63/63 [==============================] - 0s 6ms/step - loss: 0.6470 - accuracy: 0.8311 - val_loss: 1.3692 - val_accuracy: 0.7270\n",
            "Epoch 11/20\n",
            "63/63 [==============================] - 0s 6ms/step - loss: 0.6012 - accuracy: 0.8406 - val_loss: 1.4108 - val_accuracy: 0.7260\n",
            "Epoch 12/20\n",
            "63/63 [==============================] - 0s 6ms/step - loss: 0.5730 - accuracy: 0.8447 - val_loss: 1.4599 - val_accuracy: 0.7310\n",
            "Epoch 13/20\n",
            "63/63 [==============================] - 0s 6ms/step - loss: 0.4984 - accuracy: 0.8612 - val_loss: 1.5314 - val_accuracy: 0.7290\n",
            "Epoch 14/20\n",
            "63/63 [==============================] - 0s 6ms/step - loss: 0.5016 - accuracy: 0.8603 - val_loss: 1.5723 - val_accuracy: 0.7260\n",
            "Epoch 15/20\n",
            "63/63 [==============================] - 0s 6ms/step - loss: 0.4664 - accuracy: 0.8684 - val_loss: 1.6453 - val_accuracy: 0.7240\n",
            "Epoch 16/20\n",
            "63/63 [==============================] - 0s 6ms/step - loss: 0.4520 - accuracy: 0.8692 - val_loss: 1.7527 - val_accuracy: 0.7200\n",
            "Epoch 17/20\n",
            "63/63 [==============================] - 0s 6ms/step - loss: 0.4498 - accuracy: 0.8732 - val_loss: 1.7488 - val_accuracy: 0.7130\n",
            "Epoch 18/20\n",
            "63/63 [==============================] - 0s 6ms/step - loss: 0.4092 - accuracy: 0.8844 - val_loss: 1.9199 - val_accuracy: 0.7110\n",
            "Epoch 19/20\n",
            "63/63 [==============================] - 0s 6ms/step - loss: 0.4072 - accuracy: 0.8824 - val_loss: 1.9430 - val_accuracy: 0.7220\n",
            "Epoch 20/20\n",
            "63/63 [==============================] - 0s 6ms/step - loss: 0.3850 - accuracy: 0.8910 - val_loss: 1.9891 - val_accuracy: 0.7320\n"
          ],
          "name": "stdout"
        },
        {
          "output_type": "execute_result",
          "data": {
            "text/plain": [
              "<tensorflow.python.keras.callbacks.History at 0x7f210fef8b90>"
            ]
          },
          "metadata": {
            "tags": []
          },
          "execution_count": 91
        }
      ]
    },
    {
      "cell_type": "code",
      "metadata": {
        "colab": {
          "base_uri": "https://localhost:8080/"
        },
        "id": "ngC9qx71Qbr7",
        "outputId": "052daaec-8c70-4ba8-9be1-6a2fb453d098"
      },
      "source": [
        "## Bşarım 0.68 e düşmüştür. Batch_size = 512 olarak denediğimde başarım .58 lere düşmültür o yüzden batch size düşererek 128 yaptım ve başarım birazda olsa arttı ama darboğaz açık bir şekilde başarımı düşürmüştür.\n",
        "result = model.evaluate(x_test, one_hot_test_labels)\n",
        "result"
      ],
      "execution_count": 92,
      "outputs": [
        {
          "output_type": "stream",
          "text": [
            "71/71 [==============================] - 0s 3ms/step - loss: 2.1562 - accuracy: 0.6866\n"
          ],
          "name": "stdout"
        },
        {
          "output_type": "execute_result",
          "data": {
            "text/plain": [
              "[2.1562271118164062, 0.6865538954734802]"
            ]
          },
          "metadata": {
            "tags": []
          },
          "execution_count": 92
        }
      ]
    },
    {
      "cell_type": "markdown",
      "metadata": {
        "id": "ZMUEFrbpRoM8"
      },
      "source": [
        "- 3 gizli katman"
      ]
    },
    {
      "cell_type": "code",
      "metadata": {
        "colab": {
          "base_uri": "https://localhost:8080/"
        },
        "id": "vnZIuc2WQxPt",
        "outputId": "e41e5456-2a5d-4976-b593-78d4cde3240e"
      },
      "source": [
        "model = models.Sequential()\n",
        "model.add(layers.Dense(64, activation= 'relu', input_shape = (num_words,)))\n",
        "model.add(layers.Dense(64, activation = 'relu'))\n",
        "model.add(layers.Dense(64, activation = 'relu'))\n",
        "model.add(layers.Dense(num_of_labels + 1, activation = 'softmax'))\n",
        "\n",
        "model.compile(optimizer= 'rmsprop', loss = 'categorical_crossentropy', metrics = ['accuracy'])\n",
        "model.fit(partial_x_train,partial_y_train, epochs= epoch, batch_size= batch, validation_data= (x_val, y_val))"
      ],
      "execution_count": 93,
      "outputs": [
        {
          "output_type": "stream",
          "text": [
            "Epoch 1/20\n",
            "16/16 [==============================] - 1s 25ms/step - loss: 3.1137 - accuracy: 0.3338 - val_loss: 1.6805 - val_accuracy: 0.5930\n",
            "Epoch 2/20\n",
            "16/16 [==============================] - 0s 16ms/step - loss: 1.4893 - accuracy: 0.6632 - val_loss: 1.3219 - val_accuracy: 0.7110\n",
            "Epoch 3/20\n",
            "16/16 [==============================] - 0s 16ms/step - loss: 1.1473 - accuracy: 0.7475 - val_loss: 1.1714 - val_accuracy: 0.7510\n",
            "Epoch 4/20\n",
            "16/16 [==============================] - 0s 16ms/step - loss: 0.9110 - accuracy: 0.8003 - val_loss: 1.0519 - val_accuracy: 0.7770\n",
            "Epoch 5/20\n",
            "16/16 [==============================] - 0s 16ms/step - loss: 0.6999 - accuracy: 0.8452 - val_loss: 1.0354 - val_accuracy: 0.7720\n",
            "Epoch 6/20\n",
            "16/16 [==============================] - 0s 16ms/step - loss: 0.5518 - accuracy: 0.8805 - val_loss: 1.0132 - val_accuracy: 0.7860\n",
            "Epoch 7/20\n",
            "16/16 [==============================] - 0s 16ms/step - loss: 0.4597 - accuracy: 0.8979 - val_loss: 1.0028 - val_accuracy: 0.8050\n",
            "Epoch 8/20\n",
            "16/16 [==============================] - 0s 15ms/step - loss: 0.3421 - accuracy: 0.9278 - val_loss: 1.0104 - val_accuracy: 0.8030\n",
            "Epoch 9/20\n",
            "16/16 [==============================] - 0s 16ms/step - loss: 0.2879 - accuracy: 0.9374 - val_loss: 1.0054 - val_accuracy: 0.8010\n",
            "Epoch 10/20\n",
            "16/16 [==============================] - 0s 16ms/step - loss: 0.2253 - accuracy: 0.9527 - val_loss: 1.0645 - val_accuracy: 0.7820\n",
            "Epoch 11/20\n",
            "16/16 [==============================] - 0s 16ms/step - loss: 0.2162 - accuracy: 0.9501 - val_loss: 1.0766 - val_accuracy: 0.7900\n",
            "Epoch 12/20\n",
            "16/16 [==============================] - 0s 16ms/step - loss: 0.1825 - accuracy: 0.9568 - val_loss: 1.1085 - val_accuracy: 0.7890\n",
            "Epoch 13/20\n",
            "16/16 [==============================] - 0s 15ms/step - loss: 0.1647 - accuracy: 0.9549 - val_loss: 1.0962 - val_accuracy: 0.7990\n",
            "Epoch 14/20\n",
            "16/16 [==============================] - 0s 16ms/step - loss: 0.1420 - accuracy: 0.9608 - val_loss: 1.1091 - val_accuracy: 0.7960\n",
            "Epoch 15/20\n",
            "16/16 [==============================] - 0s 15ms/step - loss: 0.1359 - accuracy: 0.9591 - val_loss: 1.1497 - val_accuracy: 0.7990\n",
            "Epoch 16/20\n",
            "16/16 [==============================] - 0s 14ms/step - loss: 0.1323 - accuracy: 0.9606 - val_loss: 1.1570 - val_accuracy: 0.7960\n",
            "Epoch 17/20\n",
            "16/16 [==============================] - 0s 16ms/step - loss: 0.1108 - accuracy: 0.9616 - val_loss: 1.1959 - val_accuracy: 0.8010\n",
            "Epoch 18/20\n",
            "16/16 [==============================] - 0s 15ms/step - loss: 0.1199 - accuracy: 0.9613 - val_loss: 1.1700 - val_accuracy: 0.7910\n",
            "Epoch 19/20\n",
            "16/16 [==============================] - 0s 16ms/step - loss: 0.1117 - accuracy: 0.9634 - val_loss: 1.1950 - val_accuracy: 0.7890\n",
            "Epoch 20/20\n",
            "16/16 [==============================] - 0s 15ms/step - loss: 0.1106 - accuracy: 0.9624 - val_loss: 1.2380 - val_accuracy: 0.8030\n"
          ],
          "name": "stdout"
        },
        {
          "output_type": "execute_result",
          "data": {
            "text/plain": [
              "<tensorflow.python.keras.callbacks.History at 0x7f210ed10c10>"
            ]
          },
          "metadata": {
            "tags": []
          },
          "execution_count": 93
        }
      ]
    },
    {
      "cell_type": "code",
      "metadata": {
        "colab": {
          "base_uri": "https://localhost:8080/"
        },
        "id": "6oTkXDHLRxct",
        "outputId": "8ef78e13-6e8e-42d8-89ce-4b8ad1289385"
      },
      "source": [
        "result = model.evaluate(x_test, one_hot_test_labels)\n",
        "result"
      ],
      "execution_count": 94,
      "outputs": [
        {
          "output_type": "stream",
          "text": [
            "71/71 [==============================] - 0s 3ms/step - loss: 1.3978 - accuracy: 0.7765\n"
          ],
          "name": "stdout"
        },
        {
          "output_type": "execute_result",
          "data": {
            "text/plain": [
              "[1.3978452682495117, 0.7764915227890015]"
            ]
          },
          "metadata": {
            "tags": []
          },
          "execution_count": 94
        }
      ]
    },
    {
      "cell_type": "markdown",
      "metadata": {
        "id": "ynCZgw5eR5eG"
      },
      "source": [
        "- 1 gizli katman"
      ]
    },
    {
      "cell_type": "code",
      "metadata": {
        "colab": {
          "base_uri": "https://localhost:8080/"
        },
        "id": "VLWRKlz-R0Lt",
        "outputId": "ba8dd386-aedb-415a-c936-e8f95ff142be"
      },
      "source": [
        "model = models.Sequential()\n",
        "model.add(layers.Dense(64, activation= 'relu', input_shape = (num_words,)))\n",
        "model.add(layers.Dense(num_of_labels + 1, activation = 'softmax'))\n",
        "\n",
        "model.compile(optimizer= 'rmsprop', loss = 'categorical_crossentropy', metrics = ['accuracy'])\n",
        "model.fit(partial_x_train,partial_y_train, epochs= epoch, batch_size= batch, validation_data= (x_val, y_val))"
      ],
      "execution_count": 95,
      "outputs": [
        {
          "output_type": "stream",
          "text": [
            "Epoch 1/20\n",
            "16/16 [==============================] - 1s 23ms/step - loss: 3.1057 - accuracy: 0.4463 - val_loss: 1.8472 - val_accuracy: 0.6570\n",
            "Epoch 2/20\n",
            "16/16 [==============================] - 0s 16ms/step - loss: 1.5664 - accuracy: 0.7079 - val_loss: 1.3628 - val_accuracy: 0.7230\n",
            "Epoch 3/20\n",
            "16/16 [==============================] - 0s 15ms/step - loss: 1.1062 - accuracy: 0.7900 - val_loss: 1.1455 - val_accuracy: 0.7600\n",
            "Epoch 4/20\n",
            "16/16 [==============================] - 0s 14ms/step - loss: 0.8631 - accuracy: 0.8241 - val_loss: 1.0213 - val_accuracy: 0.7910\n",
            "Epoch 5/20\n",
            "16/16 [==============================] - 0s 15ms/step - loss: 0.6650 - accuracy: 0.8746 - val_loss: 0.9482 - val_accuracy: 0.8040\n",
            "Epoch 6/20\n",
            "16/16 [==============================] - 0s 16ms/step - loss: 0.5380 - accuracy: 0.8974 - val_loss: 0.8953 - val_accuracy: 0.8140\n",
            "Epoch 7/20\n",
            "16/16 [==============================] - 0s 15ms/step - loss: 0.4512 - accuracy: 0.9125 - val_loss: 0.8659 - val_accuracy: 0.8190\n",
            "Epoch 8/20\n",
            "16/16 [==============================] - 0s 15ms/step - loss: 0.3819 - accuracy: 0.9227 - val_loss: 0.8471 - val_accuracy: 0.8240\n",
            "Epoch 9/20\n",
            "16/16 [==============================] - 0s 15ms/step - loss: 0.3136 - accuracy: 0.9391 - val_loss: 0.8309 - val_accuracy: 0.8260\n",
            "Epoch 10/20\n",
            "16/16 [==============================] - 0s 15ms/step - loss: 0.2542 - accuracy: 0.9472 - val_loss: 0.8243 - val_accuracy: 0.8260\n",
            "Epoch 11/20\n",
            "16/16 [==============================] - 0s 15ms/step - loss: 0.2346 - accuracy: 0.9483 - val_loss: 0.8212 - val_accuracy: 0.8250\n",
            "Epoch 12/20\n",
            "16/16 [==============================] - 0s 15ms/step - loss: 0.1959 - accuracy: 0.9505 - val_loss: 0.8291 - val_accuracy: 0.8230\n",
            "Epoch 13/20\n",
            "16/16 [==============================] - 0s 14ms/step - loss: 0.1776 - accuracy: 0.9530 - val_loss: 0.8453 - val_accuracy: 0.8190\n",
            "Epoch 14/20\n",
            "16/16 [==============================] - 0s 15ms/step - loss: 0.1553 - accuracy: 0.9574 - val_loss: 0.8406 - val_accuracy: 0.8190\n",
            "Epoch 15/20\n",
            "16/16 [==============================] - 0s 15ms/step - loss: 0.1441 - accuracy: 0.9590 - val_loss: 0.8758 - val_accuracy: 0.8170\n",
            "Epoch 16/20\n",
            "16/16 [==============================] - 0s 15ms/step - loss: 0.1364 - accuracy: 0.9567 - val_loss: 0.8792 - val_accuracy: 0.8170\n",
            "Epoch 17/20\n",
            "16/16 [==============================] - 0s 15ms/step - loss: 0.1204 - accuracy: 0.9624 - val_loss: 0.8765 - val_accuracy: 0.8260\n",
            "Epoch 18/20\n",
            "16/16 [==============================] - 0s 15ms/step - loss: 0.1194 - accuracy: 0.9580 - val_loss: 0.9142 - val_accuracy: 0.8130\n",
            "Epoch 19/20\n",
            "16/16 [==============================] - 0s 15ms/step - loss: 0.1135 - accuracy: 0.9590 - val_loss: 0.9197 - val_accuracy: 0.8180\n",
            "Epoch 20/20\n",
            "16/16 [==============================] - 0s 14ms/step - loss: 0.1018 - accuracy: 0.9599 - val_loss: 0.9294 - val_accuracy: 0.8130\n"
          ],
          "name": "stdout"
        },
        {
          "output_type": "execute_result",
          "data": {
            "text/plain": [
              "<tensorflow.python.keras.callbacks.History at 0x7f210e308050>"
            ]
          },
          "metadata": {
            "tags": []
          },
          "execution_count": 95
        }
      ]
    },
    {
      "cell_type": "code",
      "metadata": {
        "colab": {
          "base_uri": "https://localhost:8080/"
        },
        "id": "gCAwcNdQR9fW",
        "outputId": "f27d0eba-5350-4c0e-c8c2-724633c2733d"
      },
      "source": [
        "result = model.evaluate(x_test, one_hot_test_labels)\n",
        "result"
      ],
      "execution_count": 96,
      "outputs": [
        {
          "output_type": "stream",
          "text": [
            "71/71 [==============================] - 0s 3ms/step - loss: 1.0431 - accuracy: 0.7983\n"
          ],
          "name": "stdout"
        },
        {
          "output_type": "execute_result",
          "data": {
            "text/plain": [
              "[1.0430588722229004, 0.7983080744743347]"
            ]
          },
          "metadata": {
            "tags": []
          },
          "execution_count": 96
        }
      ]
    },
    {
      "cell_type": "markdown",
      "metadata": {
        "id": "8Lp8rK6_SC2Z"
      },
      "source": [
        "- 128 nöron"
      ]
    },
    {
      "cell_type": "code",
      "metadata": {
        "colab": {
          "base_uri": "https://localhost:8080/"
        },
        "id": "Tk7KQofyR_ld",
        "outputId": "0157602c-874f-4395-83ee-ad19e1b0d359"
      },
      "source": [
        "model = models.Sequential()\n",
        "model.add(layers.Dense(128, activation= 'relu', input_shape = (num_words,)))\n",
        "model.add(layers.Dense(128, activation= 'relu'))\n",
        "model.add(layers.Dense(num_of_labels + 1, activation = 'softmax'))\n",
        "\n",
        "model.compile(optimizer= 'rmsprop', loss = 'categorical_crossentropy', metrics = ['accuracy'])\n",
        "model.fit(partial_x_train,partial_y_train, epochs= epoch, batch_size= batch, validation_data= (x_val, y_val))"
      ],
      "execution_count": 97,
      "outputs": [
        {
          "output_type": "stream",
          "text": [
            "Epoch 1/20\n",
            "16/16 [==============================] - 1s 25ms/step - loss: 2.8232 - accuracy: 0.4222 - val_loss: 1.4167 - val_accuracy: 0.6940\n",
            "Epoch 2/20\n",
            "16/16 [==============================] - 0s 16ms/step - loss: 1.1876 - accuracy: 0.7417 - val_loss: 1.1135 - val_accuracy: 0.7540\n",
            "Epoch 3/20\n",
            "16/16 [==============================] - 0s 16ms/step - loss: 0.7917 - accuracy: 0.8338 - val_loss: 0.9845 - val_accuracy: 0.7990\n",
            "Epoch 4/20\n",
            "16/16 [==============================] - 0s 16ms/step - loss: 0.5723 - accuracy: 0.8830 - val_loss: 0.9512 - val_accuracy: 0.7930\n",
            "Epoch 5/20\n",
            "16/16 [==============================] - 0s 16ms/step - loss: 0.3997 - accuracy: 0.9195 - val_loss: 0.8764 - val_accuracy: 0.8150\n",
            "Epoch 6/20\n",
            "16/16 [==============================] - 0s 16ms/step - loss: 0.3059 - accuracy: 0.9367 - val_loss: 0.8752 - val_accuracy: 0.8110\n",
            "Epoch 7/20\n",
            "16/16 [==============================] - 0s 16ms/step - loss: 0.2400 - accuracy: 0.9437 - val_loss: 0.9074 - val_accuracy: 0.8070\n",
            "Epoch 8/20\n",
            "16/16 [==============================] - 0s 15ms/step - loss: 0.2034 - accuracy: 0.9524 - val_loss: 0.9605 - val_accuracy: 0.8060\n",
            "Epoch 9/20\n",
            "16/16 [==============================] - 0s 16ms/step - loss: 0.1655 - accuracy: 0.9564 - val_loss: 0.9488 - val_accuracy: 0.8140\n",
            "Epoch 10/20\n",
            "16/16 [==============================] - 0s 16ms/step - loss: 0.1473 - accuracy: 0.9588 - val_loss: 0.9483 - val_accuracy: 0.8110\n",
            "Epoch 11/20\n",
            "16/16 [==============================] - 0s 16ms/step - loss: 0.1379 - accuracy: 0.9549 - val_loss: 0.9650 - val_accuracy: 0.8090\n",
            "Epoch 12/20\n",
            "16/16 [==============================] - 0s 15ms/step - loss: 0.1178 - accuracy: 0.9624 - val_loss: 1.0192 - val_accuracy: 0.8010\n",
            "Epoch 13/20\n",
            "16/16 [==============================] - 0s 16ms/step - loss: 0.1212 - accuracy: 0.9593 - val_loss: 1.0804 - val_accuracy: 0.7910\n",
            "Epoch 14/20\n",
            "16/16 [==============================] - 0s 16ms/step - loss: 0.1189 - accuracy: 0.9593 - val_loss: 0.9881 - val_accuracy: 0.8140\n",
            "Epoch 15/20\n",
            "16/16 [==============================] - 0s 17ms/step - loss: 0.1164 - accuracy: 0.9597 - val_loss: 1.0048 - val_accuracy: 0.8010\n",
            "Epoch 16/20\n",
            "16/16 [==============================] - 0s 16ms/step - loss: 0.0990 - accuracy: 0.9638 - val_loss: 1.0113 - val_accuracy: 0.8090\n",
            "Epoch 17/20\n",
            "16/16 [==============================] - 0s 16ms/step - loss: 0.1006 - accuracy: 0.9614 - val_loss: 1.1168 - val_accuracy: 0.7900\n",
            "Epoch 18/20\n",
            "16/16 [==============================] - 0s 16ms/step - loss: 0.1025 - accuracy: 0.9615 - val_loss: 1.1290 - val_accuracy: 0.7960\n",
            "Epoch 19/20\n",
            "16/16 [==============================] - 0s 15ms/step - loss: 0.1009 - accuracy: 0.9615 - val_loss: 1.1389 - val_accuracy: 0.7900\n",
            "Epoch 20/20\n",
            "16/16 [==============================] - 0s 15ms/step - loss: 0.0952 - accuracy: 0.9637 - val_loss: 1.0986 - val_accuracy: 0.8100\n"
          ],
          "name": "stdout"
        },
        {
          "output_type": "execute_result",
          "data": {
            "text/plain": [
              "<tensorflow.python.keras.callbacks.History at 0x7f212217e950>"
            ]
          },
          "metadata": {
            "tags": []
          },
          "execution_count": 97
        }
      ]
    },
    {
      "cell_type": "code",
      "metadata": {
        "colab": {
          "base_uri": "https://localhost:8080/"
        },
        "id": "hA8ICCAwSMul",
        "outputId": "9259668f-9343-4e13-9763-72642fd21ec8"
      },
      "source": [
        "result = model.evaluate(x_test, one_hot_test_labels)\n",
        "result"
      ],
      "execution_count": 98,
      "outputs": [
        {
          "output_type": "stream",
          "text": [
            "71/71 [==============================] - 0s 3ms/step - loss: 1.3006 - accuracy: 0.7858\n"
          ],
          "name": "stdout"
        },
        {
          "output_type": "execute_result",
          "data": {
            "text/plain": [
              "[1.3006079196929932, 0.7858415246009827]"
            ]
          },
          "metadata": {
            "tags": []
          },
          "execution_count": 98
        }
      ]
    },
    {
      "cell_type": "markdown",
      "metadata": {
        "id": "LZjjxDMbSe4E"
      },
      "source": [
        "- Batch_size = 64, Tek hidden Layer, epochs = 4 ile %80 başarımı yakaladık"
      ]
    },
    {
      "cell_type": "code",
      "metadata": {
        "colab": {
          "base_uri": "https://localhost:8080/"
        },
        "id": "36NZRGnWSO9t",
        "outputId": "3b8294e4-e435-4981-fcbd-84746ea2b164"
      },
      "source": [
        "model = models.Sequential()\n",
        "model.add(layers.Dense(64, activation= 'relu', input_shape = (num_words,)))\n",
        "model.add(layers.Dense(num_of_labels + 1, activation = 'softmax'))\n",
        "\n",
        "model.compile(optimizer= 'rmsprop', loss = 'categorical_crossentropy', metrics = ['accuracy'])\n",
        "model.fit(partial_x_train,partial_y_train, epochs= 4, batch_size= 64, validation_data= (x_val, y_val))"
      ],
      "execution_count": 119,
      "outputs": [
        {
          "output_type": "stream",
          "text": [
            "Epoch 1/4\n",
            "125/125 [==============================] - 1s 5ms/step - loss: 2.1491 - accuracy: 0.5854 - val_loss: 1.0930 - val_accuracy: 0.7770\n",
            "Epoch 2/4\n",
            "125/125 [==============================] - 0s 4ms/step - loss: 0.8612 - accuracy: 0.8243 - val_loss: 0.8826 - val_accuracy: 0.8190\n",
            "Epoch 3/4\n",
            "125/125 [==============================] - 0s 4ms/step - loss: 0.5287 - accuracy: 0.8906 - val_loss: 0.8104 - val_accuracy: 0.8300\n",
            "Epoch 4/4\n",
            "125/125 [==============================] - 1s 4ms/step - loss: 0.3645 - accuracy: 0.9263 - val_loss: 0.8037 - val_accuracy: 0.8390\n"
          ],
          "name": "stdout"
        },
        {
          "output_type": "execute_result",
          "data": {
            "text/plain": [
              "<tensorflow.python.keras.callbacks.History at 0x7f2101ca0190>"
            ]
          },
          "metadata": {
            "tags": []
          },
          "execution_count": 119
        }
      ]
    },
    {
      "cell_type": "code",
      "metadata": {
        "colab": {
          "base_uri": "https://localhost:8080/"
        },
        "id": "NCo1UijISlUu",
        "outputId": "4c4b1243-7d76-404d-91ca-2d8527b39343"
      },
      "source": [
        "result = model.evaluate(x_test, one_hot_test_labels)\n",
        "result"
      ],
      "execution_count": 120,
      "outputs": [
        {
          "output_type": "stream",
          "text": [
            "71/71 [==============================] - 0s 3ms/step - loss: 0.8834 - accuracy: 0.8054\n"
          ],
          "name": "stdout"
        },
        {
          "output_type": "execute_result",
          "data": {
            "text/plain": [
              "[0.8834137916564941, 0.8054319024085999]"
            ]
          },
          "metadata": {
            "tags": []
          },
          "execution_count": 120
        }
      ]
    },
    {
      "cell_type": "code",
      "metadata": {
        "id": "hnJwdhEVSn1F"
      },
      "source": [
        ""
      ],
      "execution_count": null,
      "outputs": []
    }
  ]
}