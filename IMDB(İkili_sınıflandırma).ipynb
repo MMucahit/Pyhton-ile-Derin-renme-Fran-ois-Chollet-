{
  "nbformat": 4,
  "nbformat_minor": 0,
  "metadata": {
    "accelerator": "GPU",
    "colab": {
      "name": "IMDB(İkili sınıflandırma).ipynb",
      "provenance": [],
      "collapsed_sections": []
    },
    "kernelspec": {
      "display_name": "Python 3.6.8 64-bit",
      "name": "python3"
    },
    "language_info": {
      "codemirror_mode": {
        "name": "ipython",
        "version": 3
      },
      "file_extension": ".py",
      "mimetype": "text/x-python",
      "name": "python",
      "nbconvert_exporter": "python",
      "pygments_lexer": "ipython3",
      "version": "3.6.8-final"
    }
  },
  "cells": [
    {
      "cell_type": "markdown",
      "metadata": {
        "id": "8A_QIby5lCVS"
      },
      "source": [
        "GPU mu kullanıyoruz ?"
      ]
    },
    {
      "cell_type": "code",
      "metadata": {
        "colab": {
          "base_uri": "https://localhost:8080/",
          "height": 35
        },
        "id": "D3r8k9wzP5QY",
        "outputId": "1e00bb44-7dff-42bb-d731-891c73b4a004"
      },
      "source": [
        "import tensorflow as tf\n",
        "tf.test.gpu_device_name()"
      ],
      "execution_count": null,
      "outputs": [
        {
          "output_type": "execute_result",
          "data": {
            "application/vnd.google.colaboratory.intrinsic+json": {
              "type": "string"
            },
            "text/plain": [
              "'/device:GPU:0'"
            ]
          },
          "metadata": {
            "tags": []
          },
          "execution_count": 1
        }
      ]
    },
    {
      "cell_type": "markdown",
      "metadata": {
        "id": "-AY_64UelFgB"
      },
      "source": [
        "Hangi GPU kullanıyoruz ?"
      ]
    },
    {
      "cell_type": "code",
      "metadata": {
        "colab": {
          "base_uri": "https://localhost:8080/"
        },
        "id": "869JeBzwP4zi",
        "outputId": "b8a8fbac-99a6-4522-e238-909b500a5722"
      },
      "source": [
        "from tensorflow.python.client import device_lib\n",
        "device_lib.list_local_devices()"
      ],
      "execution_count": null,
      "outputs": [
        {
          "output_type": "execute_result",
          "data": {
            "text/plain": [
              "[name: \"/device:CPU:0\"\n",
              " device_type: \"CPU\"\n",
              " memory_limit: 268435456\n",
              " locality {\n",
              " }\n",
              " incarnation: 11006586081036718470, name: \"/device:GPU:0\"\n",
              " device_type: \"GPU\"\n",
              " memory_limit: 11154422528\n",
              " locality {\n",
              "   bus_id: 1\n",
              "   links {\n",
              "   }\n",
              " }\n",
              " incarnation: 12194638180067892018\n",
              " physical_device_desc: \"device: 0, name: Tesla K80, pci bus id: 0000:00:04.0, compute capability: 3.7\"]"
            ]
          },
          "metadata": {
            "tags": []
          },
          "execution_count": 2
        }
      ]
    },
    {
      "cell_type": "markdown",
      "metadata": {
        "id": "D8R7sR2ClRJh"
      },
      "source": [
        "IMDB Veri setini yüklemek"
      ]
    },
    {
      "cell_type": "code",
      "metadata": {
        "id": "14Bu5PcTQNly"
      },
      "source": [
        "from keras.datasets import imdb"
      ],
      "execution_count": null,
      "outputs": []
    },
    {
      "cell_type": "code",
      "metadata": {
        "id": "AdoZBg-JQNbb",
        "colab": {
          "base_uri": "https://localhost:8080/"
        },
        "outputId": "1ec27b91-29c7-461a-d437-add921147cd2"
      },
      "source": [
        "num_words = 10000\n",
        "(train_data,train_labels),(test_data,test_labels) = imdb.load_data(num_words= num_words) ## en sık tekrar eden 10000 kelime"
      ],
      "execution_count": null,
      "outputs": [
        {
          "output_type": "stream",
          "text": [
            "<string>:6: VisibleDeprecationWarning: Creating an ndarray from ragged nested sequences (which is a list-or-tuple of lists-or-tuples-or ndarrays with different lengths or shapes) is deprecated. If you meant to do this, you must specify 'dtype=object' when creating the ndarray\n",
            "/usr/local/lib/python3.7/dist-packages/tensorflow/python/keras/datasets/imdb.py:159: VisibleDeprecationWarning: Creating an ndarray from ragged nested sequences (which is a list-or-tuple of lists-or-tuples-or ndarrays with different lengths or shapes) is deprecated. If you meant to do this, you must specify 'dtype=object' when creating the ndarray\n",
            "  x_train, y_train = np.array(xs[:idx]), np.array(labels[:idx])\n",
            "/usr/local/lib/python3.7/dist-packages/tensorflow/python/keras/datasets/imdb.py:160: VisibleDeprecationWarning: Creating an ndarray from ragged nested sequences (which is a list-or-tuple of lists-or-tuples-or ndarrays with different lengths or shapes) is deprecated. If you meant to do this, you must specify 'dtype=object' when creating the ndarray\n",
            "  x_test, y_test = np.array(xs[idx:]), np.array(labels[idx:])\n"
          ],
          "name": "stderr"
        }
      ]
    },
    {
      "cell_type": "code",
      "metadata": {
        "colab": {
          "base_uri": "https://localhost:8080/"
        },
        "id": "0z5dQWs4lkbu",
        "outputId": "0221946c-d209-4d28-8be1-b5dbed229d49"
      },
      "source": [
        "print('train_data[0] = ',train_data[0]) ## cümleleri temsil eden vektör\n",
        "print('train_labels[0] = ',train_labels[0]) ## olumlu olumsuz ==> 1, 0"
      ],
      "execution_count": null,
      "outputs": [
        {
          "output_type": "stream",
          "text": [
            "train_data[0] =  [1, 14, 22, 16, 43, 530, 973, 1622, 1385, 65, 458, 4468, 66, 3941, 4, 173, 36, 256, 5, 25, 100, 43, 838, 112, 50, 670, 2, 9, 35, 480, 284, 5, 150, 4, 172, 112, 167, 2, 336, 385, 39, 4, 172, 4536, 1111, 17, 546, 38, 13, 447, 4, 192, 50, 16, 6, 147, 2025, 19, 14, 22, 4, 1920, 4613, 469, 4, 22, 71, 87, 12, 16, 43, 530, 38, 76, 15, 13, 1247, 4, 22, 17, 515, 17, 12, 16, 626, 18, 2, 5, 62, 386, 12, 8, 316, 8, 106, 5, 4, 2223, 5244, 16, 480, 66, 3785, 33, 4, 130, 12, 16, 38, 619, 5, 25, 124, 51, 36, 135, 48, 25, 1415, 33, 6, 22, 12, 215, 28, 77, 52, 5, 14, 407, 16, 82, 2, 8, 4, 107, 117, 5952, 15, 256, 4, 2, 7, 3766, 5, 723, 36, 71, 43, 530, 476, 26, 400, 317, 46, 7, 4, 2, 1029, 13, 104, 88, 4, 381, 15, 297, 98, 32, 2071, 56, 26, 141, 6, 194, 7486, 18, 4, 226, 22, 21, 134, 476, 26, 480, 5, 144, 30, 5535, 18, 51, 36, 28, 224, 92, 25, 104, 4, 226, 65, 16, 38, 1334, 88, 12, 16, 283, 5, 16, 4472, 113, 103, 32, 15, 16, 5345, 19, 178, 32]\n",
            "train_labels[0] =  1\n"
          ],
          "name": "stdout"
        }
      ]
    },
    {
      "cell_type": "code",
      "metadata": {
        "id": "7Qcfv8J5lt05"
      },
      "source": [
        "word_index = imdb.get_word_index() ## kelimeleri bir tam sayı indekse eşleyen sözlüktür.\n",
        "reverse_word_index = dict([(value,key) for (key,value) in word_index.items()]) ## Tam sayı indeksleri kelimelere dönüştürür."
      ],
      "execution_count": null,
      "outputs": []
    },
    {
      "cell_type": "code",
      "metadata": {
        "id": "o0eAq-_1mOZZ"
      },
      "source": [
        "## Kritikleri alır. İndeks değerlerini 3 atlayarak almakta çünkü 0, 1 ve 2 sırayla yapılan sıfır eklemelerini, dizinin başlangıcını ve bilinmeyenleri kodlamak için ayrılmıştır.\n",
        "decode_review = ' '.join([reverse_word_index.get(i-3,'?') for i in train_data[0]])"
      ],
      "execution_count": null,
      "outputs": []
    },
    {
      "cell_type": "markdown",
      "metadata": {
        "id": "EyZk0A5voEY-"
      },
      "source": [
        "Verileri Hazırlamak"
      ]
    },
    {
      "cell_type": "code",
      "metadata": {
        "id": "yltelTGaoDTW"
      },
      "source": [
        "import numpy as np"
      ],
      "execution_count": null,
      "outputs": []
    },
    {
      "cell_type": "code",
      "metadata": {
        "id": "cLc9kjubn_5N"
      },
      "source": [
        "## İçerisinde sayı bulunan listeleri sinir ağına gönderemeyiz. Listeleri tensöre dönüştürmeliyiz. \n",
        "## - Tüm elemanları aynı uzunlukta olacak şekilde eksikleri sıfırlar ile doldurun ve (samples, word_indices) şeklinde tam sayı tensörlerine dönüştürün.\n",
        "## - Listenizi one-hot olarak kodlayın.\n",
        "def vectorize_sequence(sequences, dimension = num_words):\n",
        "  ## (len(sequences), dimension) şeklinde tüm elemanları sıfır olan matris oluşturulur.\n",
        "  results = np.zeros((len(sequences), dimension))\n",
        "  for i, sequence in enumerate(sequences):\n",
        "    results[i, sequence] = 1 ## results[i]' nin istenen indekslerini 1 yapar\n",
        "  return results  "
      ],
      "execution_count": null,
      "outputs": []
    },
    {
      "cell_type": "code",
      "metadata": {
        "colab": {
          "base_uri": "https://localhost:8080/"
        },
        "id": "8ooq7DFIolZi",
        "outputId": "0eed014b-48f6-417b-dcb1-e6b8df7ccfaa"
      },
      "source": [
        "## Yukardaki kodun çalışma mantığı için:\n",
        "x_train = [[1,2,3],[4,5,6]]\n",
        "result = np.zeros((len(x_train), 10))\n",
        "print(result)\n",
        "result[0,x_train[0]] = 1\n",
        "result[1,x_train[1]] = 1\n",
        "result"
      ],
      "execution_count": null,
      "outputs": [
        {
          "output_type": "stream",
          "text": [
            "[[0. 0. 0. 0. 0. 0. 0. 0. 0. 0.]\n",
            " [0. 0. 0. 0. 0. 0. 0. 0. 0. 0.]]\n"
          ],
          "name": "stdout"
        },
        {
          "output_type": "execute_result",
          "data": {
            "text/plain": [
              "array([[0., 1., 1., 1., 0., 0., 0., 0., 0., 0.],\n",
              "       [0., 0., 0., 0., 1., 1., 1., 0., 0., 0.]])"
            ]
          },
          "metadata": {
            "tags": []
          },
          "execution_count": 8
        }
      ]
    },
    {
      "cell_type": "code",
      "metadata": {
        "id": "6ayFPt-OtYu5"
      },
      "source": [
        "x_train = vectorize_sequence(train_data,num_words) ## Eğitim vektör verisi\n",
        "x_test = vectorize_sequence(test_data,num_words) ## Test vektör verisi"
      ],
      "execution_count": null,
      "outputs": []
    },
    {
      "cell_type": "code",
      "metadata": {
        "colab": {
          "base_uri": "https://localhost:8080/"
        },
        "id": "vH4ULSpZz2wm",
        "outputId": "db138e40-3259-4941-f987-9a6e7a2a33bb"
      },
      "source": [
        "x_train.shape[1]"
      ],
      "execution_count": null,
      "outputs": [
        {
          "output_type": "execute_result",
          "data": {
            "text/plain": [
              "10000"
            ]
          },
          "metadata": {
            "tags": []
          },
          "execution_count": 10
        }
      ]
    },
    {
      "cell_type": "code",
      "metadata": {
        "id": "KSCtIA_dxXpp"
      },
      "source": [
        "y_train = np.asarray(train_labels).astype('float32')\n",
        "y_test = np.asarray(test_labels).astype('float32')"
      ],
      "execution_count": null,
      "outputs": []
    },
    {
      "cell_type": "markdown",
      "metadata": {
        "id": "UDs_2YwgyJoA"
      },
      "source": [
        "Ağı İnşa etmek"
      ]
    },
    {
      "cell_type": "code",
      "metadata": {
        "id": "C_eCG8bUx8DF"
      },
      "source": [
        "from keras.models import Sequential\n",
        "from keras.layers import Dense"
      ],
      "execution_count": null,
      "outputs": []
    },
    {
      "cell_type": "code",
      "metadata": {
        "id": "nnkcp5i73stM"
      },
      "source": [
        "## Relu aynı zamanda doğrusallığı bozan olarakda adlandırılır. output = dot(W, input) + b işlemindeki doğrusallığı bozar ve Derinsellik katar."
      ],
      "execution_count": null,
      "outputs": []
    },
    {
      "cell_type": "code",
      "metadata": {
        "colab": {
          "base_uri": "https://localhost:8080/"
        },
        "id": "MHg-ptd2zlXU",
        "outputId": "8f05a5f8-fa99-43de-de03-cfe2baf591a1"
      },
      "source": [
        "## output = relu(dot(W, input) + bias) ==> 16 nöron bulunması W ağırlık matrisini (input_dimension, 16) şeklinde olması anlamına gelir.\n",
        "## W matrisi ile iç çarpım(dot) işlemi girdi verilerini 16 boyutlu bir gösterim uzayına dönüştürür.  \n",
        "model = Sequential()\n",
        "model.add(Dense(16, activation= 'relu', input_shape = (x_train.shape[1],))) ## hidden1 katmanında 16 nöron\n",
        "model.add(Dense(16, activation= 'relu')) ## hidden2 katmanında 16 nöron\n",
        "model.add(Dense(1, activation= 'sigmoid'))\n",
        "model.summary()"
      ],
      "execution_count": null,
      "outputs": [
        {
          "output_type": "stream",
          "text": [
            "Model: \"sequential\"\n",
            "_________________________________________________________________\n",
            "Layer (type)                 Output Shape              Param #   \n",
            "=================================================================\n",
            "dense (Dense)                (None, 16)                160016    \n",
            "_________________________________________________________________\n",
            "dense_1 (Dense)              (None, 16)                272       \n",
            "_________________________________________________________________\n",
            "dense_2 (Dense)              (None, 1)                 17        \n",
            "=================================================================\n",
            "Total params: 160,305\n",
            "Trainable params: 160,305\n",
            "Non-trainable params: 0\n",
            "_________________________________________________________________\n"
          ],
          "name": "stdout"
        }
      ]
    },
    {
      "cell_type": "code",
      "metadata": {
        "id": "WvoFwPHv0Se-"
      },
      "source": [
        "## crossentropy Bilgi kuramından gelir ve olasılık dağılımları arasındaki uzaklığı ölçer, bizim durumumuzda ise tahminler ile olması gereken dağılım uzaklığını ölçer.\n",
        "model.compile(optimizer = 'rmsprop', loss = 'binary_crossentropy', metrics = ['accuracy'])"
      ],
      "execution_count": null,
      "outputs": []
    },
    {
      "cell_type": "markdown",
      "metadata": {
        "id": "bp8qQiiG4l2O"
      },
      "source": [
        "Yaklaşımımızı Doğrulamak"
      ]
    },
    {
      "cell_type": "code",
      "metadata": {
        "id": "MTTP_q-j4cvH"
      },
      "source": [
        "## Eğitim başarımını ölçmek için ağın daha önçe görmediği özgün veri setinden 10000 örnekden oluşan doğrulama(validation) veri seti oluştururuz.\n",
        "x_val = x_train[:10000]\n",
        "partial_x_train = x_train[10000:]\n",
        "\n",
        "y_val = y_train[:10000]\n",
        "partial_y_train = y_train[10000:]"
      ],
      "execution_count": null,
      "outputs": []
    },
    {
      "cell_type": "markdown",
      "metadata": {
        "id": "R8bLLomq5OYn"
      },
      "source": [
        "Modeli Eğitmek"
      ]
    },
    {
      "cell_type": "code",
      "metadata": {
        "colab": {
          "base_uri": "https://localhost:8080/"
        },
        "id": "tBYpExye5Lp4",
        "outputId": "cdc6e04c-2b42-48d3-ce40-54001df5ef9c"
      },
      "source": [
        "history = model.fit(partial_x_train,partial_y_train,epochs = 20, batch_size = 512, validation_data=(x_val,y_val))"
      ],
      "execution_count": null,
      "outputs": [
        {
          "output_type": "stream",
          "text": [
            "Epoch 1/20\n",
            "30/30 [==============================] - 2s 43ms/step - loss: 0.5806 - accuracy: 0.7067 - val_loss: 0.3846 - val_accuracy: 0.8595\n",
            "Epoch 2/20\n",
            "30/30 [==============================] - 1s 21ms/step - loss: 0.3113 - accuracy: 0.9008 - val_loss: 0.2967 - val_accuracy: 0.8872\n",
            "Epoch 3/20\n",
            "30/30 [==============================] - 1s 21ms/step - loss: 0.2180 - accuracy: 0.9274 - val_loss: 0.3241 - val_accuracy: 0.8657\n",
            "Epoch 4/20\n",
            "30/30 [==============================] - 1s 21ms/step - loss: 0.1637 - accuracy: 0.9471 - val_loss: 0.2750 - val_accuracy: 0.8903\n",
            "Epoch 5/20\n",
            "30/30 [==============================] - 1s 21ms/step - loss: 0.1283 - accuracy: 0.9598 - val_loss: 0.3043 - val_accuracy: 0.8818\n",
            "Epoch 6/20\n",
            "30/30 [==============================] - 1s 21ms/step - loss: 0.1056 - accuracy: 0.9693 - val_loss: 0.2989 - val_accuracy: 0.8856\n",
            "Epoch 7/20\n",
            "30/30 [==============================] - 1s 20ms/step - loss: 0.0804 - accuracy: 0.9784 - val_loss: 0.3264 - val_accuracy: 0.8791\n",
            "Epoch 8/20\n",
            "30/30 [==============================] - 1s 21ms/step - loss: 0.0671 - accuracy: 0.9825 - val_loss: 0.3413 - val_accuracy: 0.8788\n",
            "Epoch 9/20\n",
            "30/30 [==============================] - 1s 21ms/step - loss: 0.0489 - accuracy: 0.9891 - val_loss: 0.3896 - val_accuracy: 0.8705\n",
            "Epoch 10/20\n",
            "30/30 [==============================] - 1s 21ms/step - loss: 0.0393 - accuracy: 0.9923 - val_loss: 0.4094 - val_accuracy: 0.8726\n",
            "Epoch 11/20\n",
            "30/30 [==============================] - 1s 21ms/step - loss: 0.0288 - accuracy: 0.9955 - val_loss: 0.4410 - val_accuracy: 0.8706\n",
            "Epoch 12/20\n",
            "30/30 [==============================] - 1s 21ms/step - loss: 0.0225 - accuracy: 0.9970 - val_loss: 0.4659 - val_accuracy: 0.8743\n",
            "Epoch 13/20\n",
            "30/30 [==============================] - 1s 20ms/step - loss: 0.0165 - accuracy: 0.9977 - val_loss: 0.5546 - val_accuracy: 0.8671\n",
            "Epoch 14/20\n",
            "30/30 [==============================] - 1s 21ms/step - loss: 0.0131 - accuracy: 0.9985 - val_loss: 0.5556 - val_accuracy: 0.8695\n",
            "Epoch 15/20\n",
            "30/30 [==============================] - 1s 19ms/step - loss: 0.0083 - accuracy: 0.9995 - val_loss: 0.5634 - val_accuracy: 0.8706\n",
            "Epoch 16/20\n",
            "30/30 [==============================] - 1s 20ms/step - loss: 0.0093 - accuracy: 0.9984 - val_loss: 0.5956 - val_accuracy: 0.8684\n",
            "Epoch 17/20\n",
            "30/30 [==============================] - 1s 20ms/step - loss: 0.0042 - accuracy: 1.0000 - val_loss: 0.6801 - val_accuracy: 0.8643\n",
            "Epoch 18/20\n",
            "30/30 [==============================] - 1s 22ms/step - loss: 0.0049 - accuracy: 0.9996 - val_loss: 0.6565 - val_accuracy: 0.8676\n",
            "Epoch 19/20\n",
            "30/30 [==============================] - 1s 22ms/step - loss: 0.0024 - accuracy: 0.9999 - val_loss: 0.7346 - val_accuracy: 0.8656\n",
            "Epoch 20/20\n",
            "30/30 [==============================] - 1s 20ms/step - loss: 0.0038 - accuracy: 0.9994 - val_loss: 0.7259 - val_accuracy: 0.8663\n"
          ],
          "name": "stdout"
        }
      ]
    },
    {
      "cell_type": "code",
      "metadata": {
        "colab": {
          "base_uri": "https://localhost:8080/"
        },
        "id": "1Tcfdmmo52eI",
        "outputId": "475520e0-1d59-4ea1-e024-0d885f1f84cf"
      },
      "source": [
        "## model.fit() methodu History nesnesini döndürmektedir. Bu nesnein, eğitim boyunca neler olduğu bilgisini bulunduran history isimli bir elemanı bulunmaktadır.\n",
        "history_dict = history.history\n",
        "history_dict.keys()"
      ],
      "execution_count": null,
      "outputs": [
        {
          "output_type": "execute_result",
          "data": {
            "text/plain": [
              "dict_keys(['loss', 'accuracy', 'val_loss', 'val_accuracy'])"
            ]
          },
          "metadata": {
            "tags": []
          },
          "execution_count": 20
        }
      ]
    },
    {
      "cell_type": "code",
      "metadata": {
        "colab": {
          "base_uri": "https://localhost:8080/",
          "height": 281
        },
        "id": "NYAHuWm56C3W",
        "outputId": "1ab22a18-c0b4-45f2-bf04-f9d1cec54042"
      },
      "source": [
        "import matplotlib.pyplot as plt\n",
        "\n",
        "history_dict = history.history\n",
        "loss_values = history_dict['loss']\n",
        "val_loss_values = history_dict['val_loss']\n",
        "\n",
        "epochs = range(1,len(loss_values) + 1)\n",
        "\n",
        "plt.plot(epochs, loss_values, 'g', label = 'Eğitim Kaybı',)\n",
        "plt.plot(epochs, val_loss_values, 'b', label = 'Doğruluk Kaybı',)\n",
        "plt.title('Eğitim ve doğruluk kaybı')\n",
        "plt.xlabel = 'Epoklar'\n",
        "plt.ylabel = 'Kayıp'\n",
        "plt.legend()\n",
        "\n",
        "plt.show()"
      ],
      "execution_count": null,
      "outputs": [
        {
          "output_type": "display_data",
          "data": {
            "image/png": "[encoded data removed]",
            "text/plain": [
              "<Figure size 432x288 with 1 Axes>"
            ]
          },
          "metadata": {
            "tags": [],
            "needs_background": "light"
          }
        }
      ]
    },
    {
      "cell_type": "code",
      "metadata": {
        "colab": {
          "base_uri": "https://localhost:8080/",
          "height": 281
        },
        "id": "hovzvv5g7WMA",
        "outputId": "0ec8ec1c-0288-4dd4-ac32-b30cb175db51"
      },
      "source": [
        "acc = history_dict['accuracy']\n",
        "val_acc = history_dict['val_accuracy']\n",
        "\n",
        "epochs = range(1,len(loss_values) + 1)\n",
        "\n",
        "plt.plot(epochs, acc, 'g', label = 'Eğitim başarımı',)\n",
        "plt.plot(epochs, val_acc, 'b', label = 'Doğruluk başarımı',)\n",
        "plt.title('Eğitim ve doğruluk başarımı')\n",
        "plt.xlabel = 'Epoklar'\n",
        "plt.ylabel = 'Kayıp'\n",
        "plt.legend()\n",
        "\n",
        "plt.show()"
      ],
      "execution_count": null,
      "outputs": [
        {
          "output_type": "display_data",
          "data": {
            "image/png": "[encoded data removed]",
            "text/plain": [
              "<Figure size 432x288 with 1 Axes>"
            ]
          },
          "metadata": {
            "tags": [],
            "needs_background": "light"
          }
        }
      ]
    },
    {
      "cell_type": "code",
      "metadata": {
        "colab": {
          "base_uri": "https://localhost:8080/"
        },
        "id": "13t_NXe77wpx",
        "outputId": "08d17399-98fe-4c64-d346-e1be5b81ada4"
      },
      "source": [
        "results = model.evaluate(x_test,y_test)"
      ],
      "execution_count": null,
      "outputs": [
        {
          "output_type": "stream",
          "text": [
            "782/782 [==============================] - 2s 3ms/step - loss: 0.7936 - accuracy: 0.8514\n"
          ],
          "name": "stdout"
        }
      ]
    },
    {
      "cell_type": "code",
      "metadata": {
        "id": "efh9qCO18GIX"
      },
      "source": [
        "## Model 3. Epokdan sonra overfitting e maruz kalıyor o yüzden epoch sayısını 3 yapabiliriz."
      ],
      "execution_count": null,
      "outputs": []
    },
    {
      "cell_type": "markdown",
      "metadata": {
        "id": "sPdbkPTf8oRX"
      },
      "source": [
        "3 epoch Model"
      ]
    },
    {
      "cell_type": "code",
      "metadata": {
        "colab": {
          "base_uri": "https://localhost:8080/"
        },
        "id": "qKeUHPjT8nzo",
        "outputId": "05f5c2c1-b884-4f07-83de-4b3f593d9575"
      },
      "source": [
        "Model = Sequential()\n",
        "Model.add(Dense(16, activation= 'relu', input_shape = (x_train.shape[1],))) ## hidden1 katmanında 16 nöron\n",
        "Model.add(Dense(16, activation= 'relu')) ## hidden2 katmanında 16 nöron\n",
        "Model.add(Dense(1, activation= 'sigmoid'))\n",
        "Model.summary()"
      ],
      "execution_count": null,
      "outputs": [
        {
          "output_type": "stream",
          "text": [
            "Model: \"sequential_1\"\n",
            "_________________________________________________________________\n",
            "Layer (type)                 Output Shape              Param #   \n",
            "=================================================================\n",
            "dense_3 (Dense)              (None, 16)                160016    \n",
            "_________________________________________________________________\n",
            "dense_4 (Dense)              (None, 16)                272       \n",
            "_________________________________________________________________\n",
            "dense_5 (Dense)              (None, 1)                 17        \n",
            "=================================================================\n",
            "Total params: 160,305\n",
            "Trainable params: 160,305\n",
            "Non-trainable params: 0\n",
            "_________________________________________________________________\n"
          ],
          "name": "stdout"
        }
      ]
    },
    {
      "cell_type": "code",
      "metadata": {
        "id": "Jjx9K0uA83UO"
      },
      "source": [
        "Model.compile(optimizer = 'rmsprop', loss = 'binary_crossentropy', metrics = ['accuracy'])"
      ],
      "execution_count": null,
      "outputs": []
    },
    {
      "cell_type": "code",
      "metadata": {
        "colab": {
          "base_uri": "https://localhost:8080/"
        },
        "id": "k7rnEXN18-CN",
        "outputId": "4c148f79-eab3-4493-820b-e8dd62e41e0e"
      },
      "source": [
        "history = Model.fit(partial_x_train,partial_y_train,epochs = 3, batch_size = 512, validation_data=(x_val,y_val))"
      ],
      "execution_count": null,
      "outputs": [
        {
          "output_type": "stream",
          "text": [
            "Epoch 1/3\n",
            "30/30 [==============================] - 2s 32ms/step - loss: 0.5944 - accuracy: 0.6811 - val_loss: 0.3813 - val_accuracy: 0.8767\n",
            "Epoch 2/3\n",
            "30/30 [==============================] - 1s 21ms/step - loss: 0.3267 - accuracy: 0.8992 - val_loss: 0.3136 - val_accuracy: 0.8777\n",
            "Epoch 3/3\n",
            "30/30 [==============================] - 1s 20ms/step - loss: 0.2279 - accuracy: 0.9267 - val_loss: 0.2768 - val_accuracy: 0.8923\n"
          ],
          "name": "stdout"
        }
      ]
    },
    {
      "cell_type": "code",
      "metadata": {
        "colab": {
          "base_uri": "https://localhost:8080/",
          "height": 281
        },
        "id": "BkkWKayz8-gu",
        "outputId": "f2055c3d-db1a-4c6a-d5cc-5f361c4de941"
      },
      "source": [
        "history_dict = history.history\n",
        "loss_values = history_dict['loss']\n",
        "val_loss_values = history_dict['val_loss']\n",
        "\n",
        "epochs = range(1,len(loss_values) + 1)\n",
        "\n",
        "plt.plot(epochs, loss_values, 'y', label = 'Eğitim Kaybı',)\n",
        "plt.plot(epochs, val_loss_values, 'b', label = 'Doğruluk Kaybı',)\n",
        "plt.title('Eğitim ve doğruluk kaybı')\n",
        "plt.xlabel = 'Epoklar'\n",
        "plt.ylabel = 'Kayıp'\n",
        "plt.legend()\n",
        "\n",
        "plt.show()"
      ],
      "execution_count": null,
      "outputs": [
        {
          "output_type": "display_data",
          "data": {
            "image/png": "[encoded data removed]",
            "text/plain": [
              "<Figure size 432x288 with 1 Axes>"
            ]
          },
          "metadata": {
            "tags": [],
            "needs_background": "light"
          }
        }
      ]
    },
    {
      "cell_type": "code",
      "metadata": {
        "colab": {
          "base_uri": "https://localhost:8080/",
          "height": 281
        },
        "id": "QT5jxyCf9Ccl",
        "outputId": "e97efa24-b2d8-4d59-d4d5-9fea550fff26"
      },
      "source": [
        "acc = history_dict['accuracy']\n",
        "val_acc = history_dict['val_accuracy']\n",
        "\n",
        "epochs = range(1,len(loss_values) + 1)\n",
        "\n",
        "plt.plot(epochs, acc, 'y', label = 'Eğitim başarımı',)\n",
        "plt.plot(epochs, val_acc, 'b', label = 'Doğruluk başarımı',)\n",
        "plt.title('Eğitim ve doğruluk başarımı')\n",
        "plt.xlabel = 'Epoklar'\n",
        "plt.ylabel = 'Kayıp'\n",
        "plt.legend()\n",
        "\n",
        "plt.show()"
      ],
      "execution_count": null,
      "outputs": [
        {
          "output_type": "display_data",
          "data": {
            "image/png": "[encoded data removed]",
            "text/plain": [
              "<Figure size 432x288 with 1 Axes>"
            ]
          },
          "metadata": {
            "tags": [],
            "needs_background": "light"
          }
        }
      ]
    },
    {
      "cell_type": "code",
      "metadata": {
        "colab": {
          "base_uri": "https://localhost:8080/"
        },
        "id": "zGz7dlRn9HC8",
        "outputId": "1be37010-387d-47b4-9fbc-2096f8f183a8"
      },
      "source": [
        "result = Model.evaluate(x_test,y_test) ## Çokda bir fark olmadı :D"
      ],
      "execution_count": null,
      "outputs": [
        {
          "output_type": "stream",
          "text": [
            "782/782 [==============================] - 2s 3ms/step - loss: 0.2943 - accuracy: 0.8840\n"
          ],
          "name": "stdout"
        }
      ]
    },
    {
      "cell_type": "markdown",
      "metadata": {
        "id": "6rzh0Y-m-XnP"
      },
      "source": [
        "Tahmin"
      ]
    },
    {
      "cell_type": "code",
      "metadata": {
        "colab": {
          "base_uri": "https://localhost:8080/"
        },
        "id": "_3Z8RvUM9eLv",
        "outputId": "c246514e-7590-4a17-c2fc-06eb0eb5ef9f"
      },
      "source": [
        "Model.predict(x_test)"
      ],
      "execution_count": null,
      "outputs": [
        {
          "output_type": "execute_result",
          "data": {
            "text/plain": [
              "array([[0.30825785],\n",
              "       [0.9966203 ],\n",
              "       [0.9295596 ],\n",
              "       ...,\n",
              "       [0.12147831],\n",
              "       [0.20884362],\n",
              "       [0.4831829 ]], dtype=float32)"
            ]
          },
          "metadata": {
            "tags": []
          },
          "execution_count": 31
        }
      ]
    },
    {
      "cell_type": "markdown",
      "metadata": {
        "id": "Xb19c5tw-mPQ"
      },
      "source": [
        "İleri Gözlemler"
      ]
    },
    {
      "cell_type": "markdown",
      "metadata": {
        "id": "zpryeoX7-x2t"
      },
      "source": [
        "- Bir Katman"
      ]
    },
    {
      "cell_type": "code",
      "metadata": {
        "colab": {
          "base_uri": "https://localhost:8080/"
        },
        "id": "-dQayueN-cUF",
        "outputId": "5b524a00-9a4e-47a1-8599-c35c8f9982ca"
      },
      "source": [
        "Model_one = Sequential()\n",
        "Model_one.add(Dense(16, activation= 'relu', input_shape = (x_train.shape[1],))) ## hidden1 katmanında 16 nöron\n",
        "Model_one.add(Dense(1, activation= 'sigmoid'))\n",
        "Model_one.summary()\n",
        "\n",
        "Model_one.compile(optimizer = 'rmsprop', loss = 'binary_crossentropy', metrics = ['accuracy'])\n",
        "history_one = Model_one.fit(partial_x_train,partial_y_train,epochs = 20, batch_size = 512, validation_data=(x_val,y_val))"
      ],
      "execution_count": null,
      "outputs": [
        {
          "output_type": "stream",
          "text": [
            "Model: \"sequential_2\"\n",
            "_________________________________________________________________\n",
            "Layer (type)                 Output Shape              Param #   \n",
            "=================================================================\n",
            "dense_4 (Dense)              (None, 16)                160016    \n",
            "_________________________________________________________________\n",
            "dense_5 (Dense)              (None, 1)                 17        \n",
            "=================================================================\n",
            "Total params: 160,033\n",
            "Trainable params: 160,033\n",
            "Non-trainable params: 0\n",
            "_________________________________________________________________\n",
            "Epoch 1/20\n",
            "30/30 [==============================] - 2s 31ms/step - loss: 0.5849 - accuracy: 0.7083 - val_loss: 0.4077 - val_accuracy: 0.8668\n",
            "Epoch 2/20\n",
            "30/30 [==============================] - 1s 20ms/step - loss: 0.3540 - accuracy: 0.8958 - val_loss: 0.3318 - val_accuracy: 0.8846\n",
            "Epoch 3/20\n",
            "30/30 [==============================] - 1s 20ms/step - loss: 0.2694 - accuracy: 0.9175 - val_loss: 0.2974 - val_accuracy: 0.8901\n",
            "Epoch 4/20\n",
            "30/30 [==============================] - 1s 21ms/step - loss: 0.2192 - accuracy: 0.9370 - val_loss: 0.2889 - val_accuracy: 0.8845\n",
            "Epoch 5/20\n",
            "30/30 [==============================] - 1s 20ms/step - loss: 0.1834 - accuracy: 0.9450 - val_loss: 0.2733 - val_accuracy: 0.8912\n",
            "Epoch 6/20\n",
            "30/30 [==============================] - 1s 21ms/step - loss: 0.1567 - accuracy: 0.9533 - val_loss: 0.2761 - val_accuracy: 0.8882\n",
            "Epoch 7/20\n",
            "30/30 [==============================] - 1s 21ms/step - loss: 0.1378 - accuracy: 0.9600 - val_loss: 0.2782 - val_accuracy: 0.8885\n",
            "Epoch 8/20\n",
            "30/30 [==============================] - 1s 20ms/step - loss: 0.1185 - accuracy: 0.9677 - val_loss: 0.2818 - val_accuracy: 0.8875\n",
            "Epoch 9/20\n",
            "30/30 [==============================] - 1s 21ms/step - loss: 0.1054 - accuracy: 0.9730 - val_loss: 0.2903 - val_accuracy: 0.8857\n",
            "Epoch 10/20\n",
            "30/30 [==============================] - 1s 20ms/step - loss: 0.0944 - accuracy: 0.9760 - val_loss: 0.3015 - val_accuracy: 0.8852\n",
            "Epoch 11/20\n",
            "30/30 [==============================] - 1s 21ms/step - loss: 0.0842 - accuracy: 0.9791 - val_loss: 0.3160 - val_accuracy: 0.8816\n",
            "Epoch 12/20\n",
            "30/30 [==============================] - 1s 21ms/step - loss: 0.0740 - accuracy: 0.9809 - val_loss: 0.3310 - val_accuracy: 0.8806\n",
            "Epoch 13/20\n",
            "30/30 [==============================] - 1s 21ms/step - loss: 0.0666 - accuracy: 0.9852 - val_loss: 0.3356 - val_accuracy: 0.8812\n",
            "Epoch 14/20\n",
            "30/30 [==============================] - 1s 20ms/step - loss: 0.0574 - accuracy: 0.9882 - val_loss: 0.3562 - val_accuracy: 0.8769\n",
            "Epoch 15/20\n",
            "30/30 [==============================] - 1s 21ms/step - loss: 0.0515 - accuracy: 0.9906 - val_loss: 0.3696 - val_accuracy: 0.8797\n",
            "Epoch 16/20\n",
            "30/30 [==============================] - 1s 20ms/step - loss: 0.0444 - accuracy: 0.9918 - val_loss: 0.3833 - val_accuracy: 0.8769\n",
            "Epoch 17/20\n",
            "30/30 [==============================] - 1s 21ms/step - loss: 0.0400 - accuracy: 0.9931 - val_loss: 0.4005 - val_accuracy: 0.8758\n",
            "Epoch 18/20\n",
            "30/30 [==============================] - 1s 20ms/step - loss: 0.0348 - accuracy: 0.9947 - val_loss: 0.4175 - val_accuracy: 0.8743\n",
            "Epoch 19/20\n",
            "30/30 [==============================] - 1s 21ms/step - loss: 0.0310 - accuracy: 0.9955 - val_loss: 0.4371 - val_accuracy: 0.8729\n",
            "Epoch 20/20\n",
            "30/30 [==============================] - 1s 20ms/step - loss: 0.0244 - accuracy: 0.9976 - val_loss: 0.4589 - val_accuracy: 0.8737\n"
          ],
          "name": "stdout"
        }
      ]
    },
    {
      "cell_type": "code",
      "metadata": {
        "colab": {
          "base_uri": "https://localhost:8080/",
          "height": 545
        },
        "id": "ko59rgCV_DRJ",
        "outputId": "090c0f12-142e-4d8a-b9a7-95c2eae6b6a3"
      },
      "source": [
        "import matplotlib.pyplot as plt\n",
        "\n",
        "history_dict = history_one.history\n",
        "loss_values = history_dict['loss']\n",
        "val_loss_values = history_dict['val_loss']\n",
        "\n",
        "epochs = range(1,len(loss_values) + 1)\n",
        "\n",
        "plt.plot(epochs, loss_values, 'y', label = 'Eğitim Kaybı',)\n",
        "plt.plot(epochs, val_loss_values, 'b', label = 'Doğruluk Kaybı',)\n",
        "plt.title('Eğitim ve doğruluk kaybı')\n",
        "plt.xlabel = 'Epoklar'\n",
        "plt.ylabel = 'Kayıp'\n",
        "plt.legend()\n",
        "\n",
        "plt.show()\n",
        "\n",
        "acc = history_dict['accuracy']\n",
        "val_acc = history_dict['val_accuracy']\n",
        "\n",
        "epochs = range(1,len(loss_values) + 1)\n",
        "\n",
        "plt.plot(epochs, acc, 'y', label = 'Eğitim başarımı',)\n",
        "plt.plot(epochs, val_acc, 'b', label = 'Doğruluk başarımı',)\n",
        "plt.title('Eğitim ve doğruluk başarımı')\n",
        "plt.xlabel = 'Epoklar'\n",
        "plt.ylabel = 'Kayıp'\n",
        "plt.legend()\n",
        "\n",
        "plt.show()"
      ],
      "execution_count": null,
      "outputs": [
        {
          "output_type": "display_data",
          "data": {
            "image/png": "[encoded data removed]",
            "text/plain": [
              "<Figure size 432x288 with 1 Axes>"
            ]
          },
          "metadata": {
            "tags": [],
            "needs_background": "light"
          }
        },
        {
          "output_type": "display_data",
          "data": {
            "image/png": "[encoded data removed]",
            "text/plain": [
              "<Figure size 432x288 with 1 Axes>"
            ]
          },
          "metadata": {
            "tags": [],
            "needs_background": "light"
          }
        }
      ]
    },
    {
      "cell_type": "code",
      "metadata": {
        "colab": {
          "base_uri": "https://localhost:8080/"
        },
        "id": "YaeDkeXI_nAF",
        "outputId": "4b942210-c367-441f-d0ae-033094e7e63d"
      },
      "source": [
        "result_one = Model_one.evaluate(x_test,y_test)"
      ],
      "execution_count": null,
      "outputs": [
        {
          "output_type": "stream",
          "text": [
            "782/782 [==============================] - 2s 3ms/step - loss: 0.4925 - accuracy: 0.8590\n"
          ],
          "name": "stdout"
        }
      ]
    },
    {
      "cell_type": "markdown",
      "metadata": {
        "id": "sAOn4zzZ_vUn"
      },
      "source": [
        "- 3 Katman"
      ]
    },
    {
      "cell_type": "code",
      "metadata": {
        "colab": {
          "base_uri": "https://localhost:8080/"
        },
        "id": "K0ePfmO0_soC",
        "outputId": "695c60c2-2b3a-4d0a-8b64-07c182ffdcc5"
      },
      "source": [
        "Model_three = Sequential()\n",
        "Model_three.add(Dense(16, activation= 'relu', input_shape = (x_train.shape[1],))) ## hidden1 katmanında 16 nöron\n",
        "Model_three.add(Dense(16, activation= 'relu', input_shape = (x_train.shape[1],)))\n",
        "Model_three.add(Dense(16, activation= 'relu', input_shape = (x_train.shape[1],)))\n",
        "Model_three.add(Dense(1, activation= 'sigmoid'))\n",
        "Model_three.summary()\n",
        "\n",
        "Model_three.compile(optimizer = 'rmsprop', loss = 'binary_crossentropy', metrics = ['accuracy'])\n",
        "history_three = Model_three.fit(partial_x_train,partial_y_train,epochs = 20, batch_size = 512, validation_data=(x_val,y_val))"
      ],
      "execution_count": null,
      "outputs": [
        {
          "output_type": "stream",
          "text": [
            "Model: \"sequential_3\"\n",
            "_________________________________________________________________\n",
            "Layer (type)                 Output Shape              Param #   \n",
            "=================================================================\n",
            "dense_6 (Dense)              (None, 16)                160016    \n",
            "_________________________________________________________________\n",
            "dense_7 (Dense)              (None, 16)                272       \n",
            "_________________________________________________________________\n",
            "dense_8 (Dense)              (None, 16)                272       \n",
            "_________________________________________________________________\n",
            "dense_9 (Dense)              (None, 1)                 17        \n",
            "=================================================================\n",
            "Total params: 160,577\n",
            "Trainable params: 160,577\n",
            "Non-trainable params: 0\n",
            "_________________________________________________________________\n",
            "Epoch 1/20\n",
            "30/30 [==============================] - 2s 31ms/step - loss: 0.5936 - accuracy: 0.6978 - val_loss: 0.3864 - val_accuracy: 0.8668\n",
            "Epoch 2/20\n",
            "30/30 [==============================] - 1s 22ms/step - loss: 0.3085 - accuracy: 0.9074 - val_loss: 0.3016 - val_accuracy: 0.8821\n",
            "Epoch 3/20\n",
            "30/30 [==============================] - 1s 21ms/step - loss: 0.2116 - accuracy: 0.9284 - val_loss: 0.2804 - val_accuracy: 0.8861\n",
            "Epoch 4/20\n",
            "30/30 [==============================] - 1s 22ms/step - loss: 0.1711 - accuracy: 0.9442 - val_loss: 0.2865 - val_accuracy: 0.8855\n",
            "Epoch 5/20\n",
            "30/30 [==============================] - 1s 22ms/step - loss: 0.1298 - accuracy: 0.9580 - val_loss: 0.2985 - val_accuracy: 0.8843\n",
            "Epoch 6/20\n",
            "30/30 [==============================] - 1s 21ms/step - loss: 0.1082 - accuracy: 0.9678 - val_loss: 0.3083 - val_accuracy: 0.8854\n",
            "Epoch 7/20\n",
            "30/30 [==============================] - 1s 21ms/step - loss: 0.0832 - accuracy: 0.9775 - val_loss: 0.3589 - val_accuracy: 0.8771\n",
            "Epoch 8/20\n",
            "30/30 [==============================] - 1s 23ms/step - loss: 0.0626 - accuracy: 0.9860 - val_loss: 0.3640 - val_accuracy: 0.8809\n",
            "Epoch 9/20\n",
            "30/30 [==============================] - 1s 22ms/step - loss: 0.0518 - accuracy: 0.9877 - val_loss: 0.3963 - val_accuracy: 0.8746\n",
            "Epoch 10/20\n",
            "30/30 [==============================] - 1s 20ms/step - loss: 0.0489 - accuracy: 0.9866 - val_loss: 0.4232 - val_accuracy: 0.8762\n",
            "Epoch 11/20\n",
            "30/30 [==============================] - 1s 21ms/step - loss: 0.0359 - accuracy: 0.9910 - val_loss: 0.5342 - val_accuracy: 0.8619\n",
            "Epoch 12/20\n",
            "30/30 [==============================] - 1s 21ms/step - loss: 0.0266 - accuracy: 0.9953 - val_loss: 0.4877 - val_accuracy: 0.8727\n",
            "Epoch 13/20\n",
            "30/30 [==============================] - 1s 21ms/step - loss: 0.0176 - accuracy: 0.9968 - val_loss: 0.5216 - val_accuracy: 0.8712\n",
            "Epoch 14/20\n",
            "30/30 [==============================] - 1s 21ms/step - loss: 0.0135 - accuracy: 0.9982 - val_loss: 0.5552 - val_accuracy: 0.8694\n",
            "Epoch 15/20\n",
            "30/30 [==============================] - 1s 21ms/step - loss: 0.0087 - accuracy: 0.9993 - val_loss: 0.5840 - val_accuracy: 0.8686\n",
            "Epoch 16/20\n",
            "30/30 [==============================] - 1s 21ms/step - loss: 0.0149 - accuracy: 0.9966 - val_loss: 0.6230 - val_accuracy: 0.8679\n",
            "Epoch 17/20\n",
            "30/30 [==============================] - 1s 22ms/step - loss: 0.0051 - accuracy: 0.9995 - val_loss: 0.6578 - val_accuracy: 0.8668\n",
            "Epoch 18/20\n",
            "30/30 [==============================] - 1s 22ms/step - loss: 0.0118 - accuracy: 0.9977 - val_loss: 0.6978 - val_accuracy: 0.8650\n",
            "Epoch 19/20\n",
            "30/30 [==============================] - 1s 22ms/step - loss: 0.0027 - accuracy: 0.9999 - val_loss: 0.7210 - val_accuracy: 0.8638\n",
            "Epoch 20/20\n",
            "30/30 [==============================] - 1s 21ms/step - loss: 0.0044 - accuracy: 0.9990 - val_loss: 0.7697 - val_accuracy: 0.8647\n"
          ],
          "name": "stdout"
        }
      ]
    },
    {
      "cell_type": "code",
      "metadata": {
        "colab": {
          "base_uri": "https://localhost:8080/",
          "height": 545
        },
        "id": "1816C4qv_0OX",
        "outputId": "fc544f3e-1681-4ffc-8211-a5b8da0dd260"
      },
      "source": [
        "history_dict = history_three.history\n",
        "loss_values = history_dict['loss']\n",
        "val_loss_values = history_dict['val_loss']\n",
        "\n",
        "epochs = range(1,len(loss_values) + 1)\n",
        "\n",
        "plt.plot(epochs, loss_values, 'y', label = 'Eğitim Kaybı',)\n",
        "plt.plot(epochs, val_loss_values, 'b', label = 'Doğruluk Kaybı',)\n",
        "plt.title('Eğitim ve doğruluk kaybı')\n",
        "plt.xlabel = 'Epoklar'\n",
        "plt.ylabel = 'Kayıp'\n",
        "plt.legend()\n",
        "\n",
        "plt.show()\n",
        "\n",
        "acc = history_dict['accuracy']\n",
        "val_acc = history_dict['val_accuracy']\n",
        "\n",
        "epochs = range(1,len(loss_values) + 1)\n",
        "\n",
        "plt.plot(epochs, acc, 'y', label = 'Eğitim başarımı',)\n",
        "plt.plot(epochs, val_acc, 'b', label = 'Doğruluk başarımı',)\n",
        "plt.title('Eğitim ve doğruluk başarımı')\n",
        "plt.xlabel = 'Epoklar'\n",
        "plt.ylabel = 'Kayıp'\n",
        "plt.legend()\n",
        "\n",
        "plt.show()"
      ],
      "execution_count": null,
      "outputs": [
        {
          "output_type": "display_data",
          "data": {
            "image/png": "[encoded data removed]",
            "text/plain": [
              "<Figure size 432x288 with 1 Axes>"
            ]
          },
          "metadata": {
            "tags": [],
            "needs_background": "light"
          }
        },
        {
          "output_type": "display_data",
          "data": {
            "image/png": "[encoded data removed]",
            "text/plain": [
              "<Figure size 432x288 with 1 Axes>"
            ]
          },
          "metadata": {
            "tags": [],
            "needs_background": "light"
          }
        }
      ]
    },
    {
      "cell_type": "code",
      "metadata": {
        "colab": {
          "base_uri": "https://localhost:8080/"
        },
        "id": "_xFTsI-n_4hl",
        "outputId": "81cde85d-ab5e-455a-a423-0824e7dc0368"
      },
      "source": [
        "result_three = Model_three.evaluate(x_test,y_test)"
      ],
      "execution_count": null,
      "outputs": [
        {
          "output_type": "stream",
          "text": [
            "782/782 [==============================] - 2s 3ms/step - loss: 0.8366 - accuracy: 0.8514\n"
          ],
          "name": "stdout"
        }
      ]
    },
    {
      "cell_type": "markdown",
      "metadata": {
        "id": "trHMdkQYCnUP"
      },
      "source": [
        "- 32 Nöron"
      ]
    },
    {
      "cell_type": "code",
      "metadata": {
        "colab": {
          "base_uri": "https://localhost:8080/"
        },
        "id": "nBkvNokyCXTe",
        "outputId": "a6cd86d2-ec0a-49e4-be01-c1ac07e4ce01"
      },
      "source": [
        "Model_three_two = Sequential()\n",
        "Model_three_two.add(Dense(32, activation= 'relu', input_shape = (x_train.shape[1],))) ## hidden1 katmanında 16 nöron\n",
        "Model_three_two.add(Dense(32, activation= 'relu', input_shape = (x_train.shape[1],)))\n",
        "Model_three_two.add(Dense(1, activation= 'sigmoid'))\n",
        "Model_three_two.summary()\n",
        "\n",
        "Model_three_two.compile(optimizer = 'rmsprop', loss = 'binary_crossentropy', metrics = ['accuracy'])\n",
        "history_three_two = Model_three_two.fit(partial_x_train,partial_y_train,epochs = 20, batch_size = 512, validation_data=(x_val,y_val))"
      ],
      "execution_count": null,
      "outputs": [
        {
          "output_type": "stream",
          "text": [
            "Model: \"sequential_4\"\n",
            "_________________________________________________________________\n",
            "Layer (type)                 Output Shape              Param #   \n",
            "=================================================================\n",
            "dense_10 (Dense)             (None, 32)                320032    \n",
            "_________________________________________________________________\n",
            "dense_11 (Dense)             (None, 32)                1056      \n",
            "_________________________________________________________________\n",
            "dense_12 (Dense)             (None, 1)                 33        \n",
            "=================================================================\n",
            "Total params: 321,121\n",
            "Trainable params: 321,121\n",
            "Non-trainable params: 0\n",
            "_________________________________________________________________\n",
            "Epoch 1/20\n",
            "30/30 [==============================] - 2s 31ms/step - loss: 0.5843 - accuracy: 0.6946 - val_loss: 0.3452 - val_accuracy: 0.8793\n",
            "Epoch 2/20\n",
            "30/30 [==============================] - 1s 21ms/step - loss: 0.2844 - accuracy: 0.9032 - val_loss: 0.3390 - val_accuracy: 0.8622\n",
            "Epoch 3/20\n",
            "30/30 [==============================] - 1s 21ms/step - loss: 0.2153 - accuracy: 0.9271 - val_loss: 0.2754 - val_accuracy: 0.8895\n",
            "Epoch 4/20\n",
            "30/30 [==============================] - 1s 21ms/step - loss: 0.1502 - accuracy: 0.9535 - val_loss: 0.2825 - val_accuracy: 0.8863\n",
            "Epoch 5/20\n",
            "30/30 [==============================] - 1s 21ms/step - loss: 0.1232 - accuracy: 0.9618 - val_loss: 0.3198 - val_accuracy: 0.8798\n",
            "Epoch 6/20\n",
            "30/30 [==============================] - 1s 22ms/step - loss: 0.0962 - accuracy: 0.9706 - val_loss: 0.3283 - val_accuracy: 0.8797\n",
            "Epoch 7/20\n",
            "30/30 [==============================] - 1s 21ms/step - loss: 0.0789 - accuracy: 0.9750 - val_loss: 0.3427 - val_accuracy: 0.8803\n",
            "Epoch 8/20\n",
            "30/30 [==============================] - 1s 21ms/step - loss: 0.0618 - accuracy: 0.9835 - val_loss: 0.3724 - val_accuracy: 0.8800\n",
            "Epoch 9/20\n",
            "30/30 [==============================] - 1s 21ms/step - loss: 0.0470 - accuracy: 0.9873 - val_loss: 0.4400 - val_accuracy: 0.8673\n",
            "Epoch 10/20\n",
            "30/30 [==============================] - 1s 21ms/step - loss: 0.0375 - accuracy: 0.9916 - val_loss: 0.4610 - val_accuracy: 0.8707\n",
            "Epoch 11/20\n",
            "30/30 [==============================] - 1s 21ms/step - loss: 0.0294 - accuracy: 0.9932 - val_loss: 0.5113 - val_accuracy: 0.8691\n",
            "Epoch 12/20\n",
            "30/30 [==============================] - 1s 21ms/step - loss: 0.0194 - accuracy: 0.9963 - val_loss: 0.5175 - val_accuracy: 0.8721\n",
            "Epoch 13/20\n",
            "30/30 [==============================] - 1s 21ms/step - loss: 0.0117 - accuracy: 0.9987 - val_loss: 0.6657 - val_accuracy: 0.8557\n",
            "Epoch 14/20\n",
            "30/30 [==============================] - 1s 21ms/step - loss: 0.0142 - accuracy: 0.9979 - val_loss: 0.6735 - val_accuracy: 0.8613\n",
            "Epoch 15/20\n",
            "30/30 [==============================] - 1s 21ms/step - loss: 0.0301 - accuracy: 0.9917 - val_loss: 0.6412 - val_accuracy: 0.8671\n",
            "Epoch 16/20\n",
            "30/30 [==============================] - 1s 22ms/step - loss: 0.0072 - accuracy: 0.9987 - val_loss: 0.6780 - val_accuracy: 0.8658\n",
            "Epoch 17/20\n",
            "30/30 [==============================] - 1s 21ms/step - loss: 0.0032 - accuracy: 0.9999 - val_loss: 0.7090 - val_accuracy: 0.8660\n",
            "Epoch 18/20\n",
            "30/30 [==============================] - 1s 21ms/step - loss: 0.0052 - accuracy: 0.9986 - val_loss: 0.7468 - val_accuracy: 0.8653\n",
            "Epoch 19/20\n",
            "30/30 [==============================] - 1s 20ms/step - loss: 0.0016 - accuracy: 1.0000 - val_loss: 0.7736 - val_accuracy: 0.8654\n",
            "Epoch 20/20\n",
            "30/30 [==============================] - 1s 20ms/step - loss: 0.0020 - accuracy: 0.9998 - val_loss: 0.8362 - val_accuracy: 0.8628\n"
          ],
          "name": "stdout"
        }
      ]
    },
    {
      "cell_type": "code",
      "metadata": {
        "colab": {
          "base_uri": "https://localhost:8080/",
          "height": 545
        },
        "id": "mgZPXvCbC24d",
        "outputId": "ecfdc66d-af62-4186-8623-64c35863b241"
      },
      "source": [
        "history_dict = history_three_two.history\n",
        "loss_values = history_dict['loss']\n",
        "val_loss_values = history_dict['val_loss']\n",
        "\n",
        "epochs = range(1,len(loss_values) + 1)\n",
        "\n",
        "plt.plot(epochs, loss_values, 'y', label = 'Eğitim Kaybı',)\n",
        "plt.plot(epochs, val_loss_values, 'b', label = 'Doğruluk Kaybı',)\n",
        "plt.title('Eğitim ve doğruluk kaybı')\n",
        "plt.xlabel = 'Epoklar'\n",
        "plt.ylabel = 'Kayıp'\n",
        "plt.legend()\n",
        "\n",
        "plt.show()\n",
        "\n",
        "acc = history_dict['accuracy']\n",
        "val_acc = history_dict['val_accuracy']\n",
        "\n",
        "epochs = range(1,len(loss_values) + 1)\n",
        "\n",
        "plt.plot(epochs, acc, 'y', label = 'Eğitim başarımı',)\n",
        "plt.plot(epochs, val_acc, 'b', label = 'Doğruluk başarımı',)\n",
        "plt.title('Eğitim ve doğruluk başarımı')\n",
        "plt.xlabel = 'Epoklar'\n",
        "plt.ylabel = 'Kayıp'\n",
        "plt.legend()\n",
        "\n",
        "plt.show()"
      ],
      "execution_count": null,
      "outputs": [
        {
          "output_type": "display_data",
          "data": {
            "image/png": "[encoded data removed]",
            "text/plain": [
              "<Figure size 432x288 with 1 Axes>"
            ]
          },
          "metadata": {
            "tags": [],
            "needs_background": "light"
          }
        },
        {
          "output_type": "display_data",
          "data": {
            "image/png": "[encoded data removed]",
            "text/plain": [
              "<Figure size 432x288 with 1 Axes>"
            ]
          },
          "metadata": {
            "tags": [],
            "needs_background": "light"
          }
        }
      ]
    },
    {
      "cell_type": "code",
      "metadata": {
        "colab": {
          "base_uri": "https://localhost:8080/"
        },
        "id": "paGKEy_cC5Tf",
        "outputId": "6e2820e6-1b72-49ac-871e-05bc63c8b735"
      },
      "source": [
        "result_three_two = Model_three_two.evaluate(x_test,y_test)"
      ],
      "execution_count": null,
      "outputs": [
        {
          "output_type": "stream",
          "text": [
            "782/782 [==============================] - 2s 3ms/step - loss: 0.9386 - accuracy: 0.8470\n"
          ],
          "name": "stdout"
        }
      ]
    },
    {
      "cell_type": "markdown",
      "metadata": {
        "id": "rG53ShjADMWs"
      },
      "source": [
        "62 Nöron"
      ]
    },
    {
      "cell_type": "code",
      "metadata": {
        "colab": {
          "base_uri": "https://localhost:8080/"
        },
        "id": "IXti3EAnDKXx",
        "outputId": "1eaf6588-834b-4077-fcab-f29215aa14d3"
      },
      "source": [
        "Model_six_four = Sequential()\n",
        "Model_six_four.add(Dense(64, activation= 'relu', input_shape = (x_train.shape[1],))) ## hidden1 katmanında 16 nöron\n",
        "Model_six_four.add(Dense(64, activation= 'relu', input_shape = (x_train.shape[1],)))\n",
        "Model_six_four.add(Dense(1, activation= 'sigmoid'))\n",
        "Model_six_four.summary()\n",
        "\n",
        "Model_six_four.compile(optimizer = 'rmsprop', loss = 'binary_crossentropy', metrics = ['accuracy'])\n",
        "history_six_four = Model_six_four.fit(partial_x_train,partial_y_train,epochs = 20, batch_size = 512, validation_data=(x_val,y_val))"
      ],
      "execution_count": null,
      "outputs": [
        {
          "output_type": "stream",
          "text": [
            "Model: \"sequential_5\"\n",
            "_________________________________________________________________\n",
            "Layer (type)                 Output Shape              Param #   \n",
            "=================================================================\n",
            "dense_13 (Dense)             (None, 64)                640064    \n",
            "_________________________________________________________________\n",
            "dense_14 (Dense)             (None, 64)                4160      \n",
            "_________________________________________________________________\n",
            "dense_15 (Dense)             (None, 1)                 65        \n",
            "=================================================================\n",
            "Total params: 644,289\n",
            "Trainable params: 644,289\n",
            "Non-trainable params: 0\n",
            "_________________________________________________________________\n",
            "Epoch 1/20\n",
            "30/30 [==============================] - 2s 32ms/step - loss: 0.5696 - accuracy: 0.6935 - val_loss: 0.3198 - val_accuracy: 0.8773\n",
            "Epoch 2/20\n",
            "30/30 [==============================] - 1s 21ms/step - loss: 0.2582 - accuracy: 0.9071 - val_loss: 0.3026 - val_accuracy: 0.8805\n",
            "Epoch 3/20\n",
            "30/30 [==============================] - 1s 22ms/step - loss: 0.1893 - accuracy: 0.9306 - val_loss: 0.4007 - val_accuracy: 0.8439\n",
            "Epoch 4/20\n",
            "30/30 [==============================] - 1s 22ms/step - loss: 0.1349 - accuracy: 0.9528 - val_loss: 0.2948 - val_accuracy: 0.8866\n",
            "Epoch 5/20\n",
            "30/30 [==============================] - 1s 22ms/step - loss: 0.0968 - accuracy: 0.9662 - val_loss: 0.3165 - val_accuracy: 0.8857\n",
            "Epoch 6/20\n",
            "30/30 [==============================] - 1s 22ms/step - loss: 0.0657 - accuracy: 0.9811 - val_loss: 0.3511 - val_accuracy: 0.8822\n",
            "Epoch 7/20\n",
            "30/30 [==============================] - 1s 21ms/step - loss: 0.0662 - accuracy: 0.9789 - val_loss: 0.4153 - val_accuracy: 0.8758\n",
            "Epoch 8/20\n",
            "30/30 [==============================] - 1s 22ms/step - loss: 0.0345 - accuracy: 0.9905 - val_loss: 0.4176 - val_accuracy: 0.8792\n",
            "Epoch 9/20\n",
            "30/30 [==============================] - 1s 22ms/step - loss: 0.0196 - accuracy: 0.9962 - val_loss: 0.4401 - val_accuracy: 0.8771\n",
            "Epoch 10/20\n",
            "30/30 [==============================] - 1s 22ms/step - loss: 0.0091 - accuracy: 0.9992 - val_loss: 0.5064 - val_accuracy: 0.8793\n",
            "Epoch 11/20\n",
            "30/30 [==============================] - 1s 22ms/step - loss: 0.0257 - accuracy: 0.9932 - val_loss: 0.5291 - val_accuracy: 0.8779\n",
            "Epoch 12/20\n",
            "30/30 [==============================] - 1s 22ms/step - loss: 0.0033 - accuracy: 0.9999 - val_loss: 0.5816 - val_accuracy: 0.8765\n",
            "Epoch 13/20\n",
            "30/30 [==============================] - 1s 22ms/step - loss: 0.0095 - accuracy: 0.9982 - val_loss: 0.6091 - val_accuracy: 0.8745\n",
            "Epoch 14/20\n",
            "30/30 [==============================] - 1s 23ms/step - loss: 0.0015 - accuracy: 1.0000 - val_loss: 0.6459 - val_accuracy: 0.8742\n",
            "Epoch 15/20\n",
            "30/30 [==============================] - 1s 22ms/step - loss: 0.0010 - accuracy: 1.0000 - val_loss: 0.7056 - val_accuracy: 0.8708\n",
            "Epoch 16/20\n",
            "30/30 [==============================] - 1s 23ms/step - loss: 0.0048 - accuracy: 0.9989 - val_loss: 0.7425 - val_accuracy: 0.8716\n",
            "Epoch 17/20\n",
            "30/30 [==============================] - 1s 22ms/step - loss: 5.5699e-04 - accuracy: 1.0000 - val_loss: 0.7559 - val_accuracy: 0.8717\n",
            "Epoch 18/20\n",
            "30/30 [==============================] - 1s 22ms/step - loss: 3.4996e-04 - accuracy: 1.0000 - val_loss: 0.7913 - val_accuracy: 0.8708\n",
            "Epoch 19/20\n",
            "30/30 [==============================] - 1s 23ms/step - loss: 2.1226e-04 - accuracy: 1.0000 - val_loss: 0.8563 - val_accuracy: 0.8706\n",
            "Epoch 20/20\n",
            "30/30 [==============================] - 1s 22ms/step - loss: 0.0078 - accuracy: 0.9985 - val_loss: 0.8842 - val_accuracy: 0.8699\n"
          ],
          "name": "stdout"
        }
      ]
    },
    {
      "cell_type": "code",
      "metadata": {
        "colab": {
          "base_uri": "https://localhost:8080/",
          "height": 545
        },
        "id": "1bIutyO7DRFW",
        "outputId": "35133625-81da-4b4b-c31f-346f8c39c793"
      },
      "source": [
        "history_dict = history_six_four.history\n",
        "loss_values = history_dict['loss']\n",
        "val_loss_values = history_dict['val_loss']\n",
        "\n",
        "epochs = range(1,len(loss_values) + 1)\n",
        "\n",
        "plt.plot(epochs, loss_values, 'y', label = 'Eğitim Kaybı',)\n",
        "plt.plot(epochs, val_loss_values, 'b', label = 'Doğruluk Kaybı',)\n",
        "plt.title('Eğitim ve doğruluk kaybı')\n",
        "plt.xlabel = 'Epoklar'\n",
        "plt.ylabel = 'Kayıp'\n",
        "plt.legend()\n",
        "\n",
        "plt.show()\n",
        "\n",
        "acc = history_dict['accuracy']\n",
        "val_acc = history_dict['val_accuracy']\n",
        "\n",
        "epochs = range(1,len(loss_values) + 1)\n",
        "\n",
        "plt.plot(epochs, acc, 'y', label = 'Eğitim başarımı',)\n",
        "plt.plot(epochs, val_acc, 'b', label = 'Doğruluk başarımı',)\n",
        "plt.title('Eğitim ve doğruluk başarımı')\n",
        "plt.xlabel = 'Epoklar'\n",
        "plt.ylabel = 'Kayıp'\n",
        "plt.legend()\n",
        "\n",
        "plt.show()"
      ],
      "execution_count": null,
      "outputs": [
        {
          "output_type": "display_data",
          "data": {
            "image/png": "[encoded data removed]",
            "text/plain": [
              "<Figure size 432x288 with 1 Axes>"
            ]
          },
          "metadata": {
            "tags": [],
            "needs_background": "light"
          }
        },
        {
          "output_type": "display_data",
          "data": {
            "image/png": "[encoded data removed]",
            "text/plain": [
              "<Figure size 432x288 with 1 Axes>"
            ]
          },
          "metadata": {
            "tags": [],
            "needs_background": "light"
          }
        }
      ]
    },
    {
      "cell_type": "code",
      "metadata": {
        "colab": {
          "base_uri": "https://localhost:8080/"
        },
        "id": "70XGcdzhDULy",
        "outputId": "2961ab10-d8e3-40d5-fa92-f6e30d6771e1"
      },
      "source": [
        "result_six_four = Model_six_four.evaluate(x_test,y_test)"
      ],
      "execution_count": null,
      "outputs": [
        {
          "output_type": "stream",
          "text": [
            "782/782 [==============================] - 2s 3ms/step - loss: 0.9636 - accuracy: 0.8546\n"
          ],
          "name": "stdout"
        }
      ]
    },
    {
      "cell_type": "markdown",
      "metadata": {
        "id": "LQGn9eY7DzVN"
      },
      "source": [
        "- Tanh"
      ]
    },
    {
      "cell_type": "code",
      "metadata": {
        "colab": {
          "base_uri": "https://localhost:8080/"
        },
        "id": "45m-vRoDDmYU",
        "outputId": "ec869418-0f3b-4d19-9324-5d98fa0864cb"
      },
      "source": [
        "Model_tanh = Sequential()\n",
        "Model_tanh.add(Dense(16, activation= 'tanh', input_shape = (x_train.shape[1],))) ## hidden1 katmanında 16 nöron\n",
        "Model_tanh.add(Dense(16, activation= 'tanh', input_shape = (x_train.shape[1],)))\n",
        "Model_tanh.add(Dense(1, activation= 'sigmoid'))\n",
        "Model_tanh.summary()\n",
        "\n",
        "Model_tanh.compile(optimizer = 'rmsprop', loss = 'binary_crossentropy', metrics = ['accuracy'])\n",
        "history_tanh = Model_tanh.fit(partial_x_train,partial_y_train,epochs = 20, batch_size = 512, validation_data=(x_val,y_val))"
      ],
      "execution_count": null,
      "outputs": [
        {
          "output_type": "stream",
          "text": [
            "Model: \"sequential_8\"\n",
            "_________________________________________________________________\n",
            "Layer (type)                 Output Shape              Param #   \n",
            "=================================================================\n",
            "dense_22 (Dense)             (None, 16)                160016    \n",
            "_________________________________________________________________\n",
            "dense_23 (Dense)             (None, 16)                272       \n",
            "_________________________________________________________________\n",
            "dense_24 (Dense)             (None, 1)                 17        \n",
            "=================================================================\n",
            "Total params: 160,305\n",
            "Trainable params: 160,305\n",
            "Non-trainable params: 0\n",
            "_________________________________________________________________\n",
            "Epoch 1/20\n",
            "30/30 [==============================] - 2s 31ms/step - loss: 0.5663 - accuracy: 0.7063 - val_loss: 0.3670 - val_accuracy: 0.8639\n",
            "Epoch 2/20\n",
            "30/30 [==============================] - 1s 21ms/step - loss: 0.2898 - accuracy: 0.9077 - val_loss: 0.3072 - val_accuracy: 0.8762\n",
            "Epoch 3/20\n",
            "30/30 [==============================] - 1s 20ms/step - loss: 0.1965 - accuracy: 0.9404 - val_loss: 0.2706 - val_accuracy: 0.8903\n",
            "Epoch 4/20\n",
            "30/30 [==============================] - 1s 21ms/step - loss: 0.1401 - accuracy: 0.9574 - val_loss: 0.2811 - val_accuracy: 0.8869\n",
            "Epoch 5/20\n",
            "30/30 [==============================] - 1s 20ms/step - loss: 0.1113 - accuracy: 0.9652 - val_loss: 0.3032 - val_accuracy: 0.8831\n",
            "Epoch 6/20\n",
            "30/30 [==============================] - 1s 20ms/step - loss: 0.0866 - accuracy: 0.9731 - val_loss: 0.3481 - val_accuracy: 0.8765\n",
            "Epoch 7/20\n",
            "30/30 [==============================] - 1s 20ms/step - loss: 0.0652 - accuracy: 0.9830 - val_loss: 0.3706 - val_accuracy: 0.8759\n",
            "Epoch 8/20\n",
            "30/30 [==============================] - 1s 20ms/step - loss: 0.0513 - accuracy: 0.9856 - val_loss: 0.4128 - val_accuracy: 0.8739\n",
            "Epoch 9/20\n",
            "30/30 [==============================] - 1s 21ms/step - loss: 0.0377 - accuracy: 0.9909 - val_loss: 0.5093 - val_accuracy: 0.8642\n",
            "Epoch 10/20\n",
            "30/30 [==============================] - 1s 21ms/step - loss: 0.0293 - accuracy: 0.9933 - val_loss: 0.5168 - val_accuracy: 0.8673\n",
            "Epoch 11/20\n",
            "30/30 [==============================] - 1s 21ms/step - loss: 0.0228 - accuracy: 0.9944 - val_loss: 0.5425 - val_accuracy: 0.8660\n",
            "Epoch 12/20\n",
            "30/30 [==============================] - 1s 20ms/step - loss: 0.0123 - accuracy: 0.9983 - val_loss: 0.5965 - val_accuracy: 0.8659\n",
            "Epoch 13/20\n",
            "30/30 [==============================] - 1s 20ms/step - loss: 0.0116 - accuracy: 0.9983 - val_loss: 0.6198 - val_accuracy: 0.8664\n",
            "Epoch 14/20\n",
            "30/30 [==============================] - 1s 20ms/step - loss: 0.0047 - accuracy: 0.9997 - val_loss: 0.7066 - val_accuracy: 0.8593\n",
            "Epoch 15/20\n",
            "30/30 [==============================] - 1s 20ms/step - loss: 0.0048 - accuracy: 0.9997 - val_loss: 0.6981 - val_accuracy: 0.8651\n",
            "Epoch 16/20\n",
            "30/30 [==============================] - 1s 20ms/step - loss: 0.0083 - accuracy: 0.9973 - val_loss: 0.7304 - val_accuracy: 0.8615\n",
            "Epoch 17/20\n",
            "30/30 [==============================] - 1s 21ms/step - loss: 0.0014 - accuracy: 1.0000 - val_loss: 0.7599 - val_accuracy: 0.8623\n",
            "Epoch 18/20\n",
            "30/30 [==============================] - 1s 20ms/step - loss: 8.6275e-04 - accuracy: 1.0000 - val_loss: 0.8129 - val_accuracy: 0.8607\n",
            "Epoch 19/20\n",
            "30/30 [==============================] - 1s 20ms/step - loss: 0.0057 - accuracy: 0.9988 - val_loss: 0.8568 - val_accuracy: 0.8599\n",
            "Epoch 20/20\n",
            "30/30 [==============================] - 1s 20ms/step - loss: 4.0881e-04 - accuracy: 1.0000 - val_loss: 0.8635 - val_accuracy: 0.8613\n"
          ],
          "name": "stdout"
        }
      ]
    },
    {
      "cell_type": "code",
      "metadata": {
        "colab": {
          "base_uri": "https://localhost:8080/",
          "height": 545
        },
        "id": "SQKGndmtD32k",
        "outputId": "07443adf-1eda-40c9-f9d9-3197fa6cdea1"
      },
      "source": [
        "history_dict = history_tanh.history\n",
        "loss_values = history_dict['loss']\n",
        "val_loss_values = history_dict['val_loss']\n",
        "\n",
        "epochs = range(1,len(loss_values) + 1)\n",
        "\n",
        "plt.plot(epochs, loss_values, 'y', label = 'Eğitim Kaybı',)\n",
        "plt.plot(epochs, val_loss_values, 'b', label = 'Doğruluk Kaybı',)\n",
        "plt.title('Eğitim ve doğruluk kaybı')\n",
        "plt.xlabel = 'Epoklar'\n",
        "plt.ylabel = 'Kayıp'\n",
        "plt.legend()\n",
        "\n",
        "plt.show()\n",
        "\n",
        "acc = history_dict['accuracy']\n",
        "val_acc = history_dict['val_accuracy']\n",
        "\n",
        "epochs = range(1,len(loss_values) + 1)\n",
        "\n",
        "plt.plot(epochs, acc, 'y', label = 'Eğitim başarımı',)\n",
        "plt.plot(epochs, val_acc, 'b', label = 'Doğruluk başarımı',)\n",
        "plt.title('Eğitim ve doğruluk başarımı')\n",
        "plt.xlabel = 'Epoklar'\n",
        "plt.ylabel = 'Kayıp'\n",
        "plt.legend()\n",
        "\n",
        "plt.show()"
      ],
      "execution_count": null,
      "outputs": [
        {
          "output_type": "display_data",
          "data": {
            "image/png": "[encoded data removed]",
            "text/plain": [
              "<Figure size 432x288 with 1 Axes>"
            ]
          },
          "metadata": {
            "tags": [],
            "needs_background": "light"
          }
        },
        {
          "output_type": "display_data",
          "data": {
            "image/png": "[encoded data removed]",
            "text/plain": [
              "<Figure size 432x288 with 1 Axes>"
            ]
          },
          "metadata": {
            "tags": [],
            "needs_background": "light"
          }
        }
      ]
    },
    {
      "cell_type": "code",
      "metadata": {
        "colab": {
          "base_uri": "https://localhost:8080/"
        },
        "id": "cvkVlHcND4CM",
        "outputId": "4865de3e-b0b4-475c-f837-c4985ae4bd5d"
      },
      "source": [
        "result_tanh = Model_tanh.evaluate(x_test,y_test)"
      ],
      "execution_count": null,
      "outputs": [
        {
          "output_type": "stream",
          "text": [
            "782/782 [==============================] - 2s 3ms/step - loss: 0.9537 - accuracy: 0.8435\n"
          ],
          "name": "stdout"
        }
      ]
    },
    {
      "cell_type": "code",
      "metadata": {
        "colab": {
          "base_uri": "https://localhost:8080/"
        },
        "id": "n8grhk8IEZD0",
        "outputId": "829c13b2-abfa-46c7-cea0-68c2eeda16d3"
      },
      "source": [
        "## epochs = 20 \n",
        "## çıkış ==> loss, accuracy\n",
        "print('result_one: ',result_one) ## tek hidden katmanlı 16 nöronlu \n",
        "print('result_Three: ',result_three) ## 3 hidden katmanlı 16 nöronlu\n",
        "print('result_three_two: ',result_three_two) ## 2 hidden katmanlı 32 nöronlu\n",
        "print('result_six_four: ',result_six_four) ## 2 hidden katmanlı 64 nöronlu\n",
        "print('result_tanh: ',result_tanh) ## 2 hidden katmanlı 16 nöronlu aktivasyon func = tanh\n"
      ],
      "execution_count": null,
      "outputs": [
        {
          "output_type": "stream",
          "text": [
            "result_one:  [0.49245840311050415, 0.858959972858429]\n",
            "result_Three:  [0.8365976810455322, 0.8514000177383423]\n",
            "result_three_two:  [0.938637912273407, 0.847000002861023]\n",
            "result_six_four:  [0.9635728001594543, 0.854640007019043]\n",
            "result_tanh:  [0.9537339806556702, 0.8434799909591675]\n"
          ],
          "name": "stdout"
        }
      ]
    },
    {
      "cell_type": "code",
      "metadata": {
        "id": "g8sxkCwmIqQA"
      },
      "source": [
        ""
      ],
      "execution_count": null,
      "outputs": []
    }
  ]
}